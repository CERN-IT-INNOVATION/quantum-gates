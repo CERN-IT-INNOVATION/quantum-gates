{
 "cells": [
  {
   "cell_type": "markdown",
   "id": "bcc1aa44",
   "metadata": {},
   "source": [
    "# Simulating Quantum Devices: A Comparison of quantum-gates and Qiskit in GHZ, Hadamard Inverse QFT, and Quantum SVM Algorithms"
   ]
  },
  {
   "cell_type": "markdown",
   "id": "5e6d3e7b",
   "metadata": {},
   "source": [
    "## Introduction \n",
    "Quantum computing has the potential to solve problems that classical computers cannot. However, the practical implementation of quantum computers is still in its infancy, and currently available quantum devices are still small and noisy. Therefore, simulating quantum devices accurately and efficiently is a crucial task in quantum computing research, as it is necessary for optimizing hardware and quantum algorithms.\n",
    "\n",
    "In our preprint titled \"A novel approach to noisy gates for simulating quantum computers,\" we compare our method with the IBM Qiskit simulator and show that it follows more closely both the analytical solution of the Lindblad equation as well as the behavior of a real quantum computer. We ran algorithms involving up to 18 qubits, and our method offers a more accurate simulator for NISQ devices in most of the tested regimes. \n",
    "\n",
    "In this tutorial, we will use quantum-gates to simulate quantum devices and compare its performance with Qiskit in three different quantum algorithms: GHZ circuit, Hadamard inverse QFT circuit, and Quantum SVM. You will learn how to install and use the quantum-gates library, and we will compare the accuracy and execution time of both implementations for each algorithm. By the end of this tutorial, you will have a good understanding of how quantum-gates can help you simulate quantum devices accurately and efficiently."
   ]
  },
  {
   "cell_type": "markdown",
   "id": "d1d3bb16",
   "metadata": {},
   "source": [
    "## Table of Contents\n",
    "\n",
    "1. Introduction\n",
    "2. Overview of quantum-gates library\n",
    "3. GHZ Circuit\n",
    "    - Introduction\n",
    "    - Implementation with quantum-gates\n",
    "    - Implementation with Qiskit\n",
    "    - Performance comparison\n",
    "4. Hadamard Inverse QFT Circuit\n",
    "    - Introduction\n",
    "    - Implementation with quantum-gates\n",
    "    - Implementation with Qiskit\n",
    "    - Performance comparison\n",
    "5. Quantum SVM\n",
    "    - Introduction\n",
    "    - Implementation with quantum-gates\n",
    "    - Implementation with Qiskit\n",
    "    - Performance comparison\n",
    "6. Conclusion"
   ]
  },
  {
   "cell_type": "markdown",
   "id": "da8ab248",
   "metadata": {},
   "source": [
    "##  Overview of quantum-gates library\n",
    "Quantum Gates Library is a Python library for simulating the noisy behaviour of quantum devices. It provides a set of classes for constructing and manipulating quantum gates, as well as simulating the evolution of a quantum state through a circuit. The library includes a variety of commonly used gates such as Pauli gates, Hadamard gate, Phase gate, and Controlled-NOT gate. Users can specify custom pulses and model the influence of the pulse waveform on the noise.\n",
    "\n",
    "One advantage of the Quantum Gates Library is its ease of use. Users can construct quantum circuits by simply chaining together the desired gates, and the library takes care of the underlying mathematical operations. The library also provides a simple interface for simulating the output of a quantum circuit, allowing users to quickly test their circuits and explore the behavior of quantum systems.\n",
    "\n",
    "Another advantage of the Quantum Gates Library is its extensibility. Users can define their own custom gates by subclassing the existing gate classes and implementing their own matrix representations. This makes it easy to incorporate new gates into quantum circuits and explore the behavior of novel quantum systems.\n",
    "\n",
    "Compared to IBM Qiskit, the Quantum Gates Library is a smaller and more lightweight library focused solely on quantum gate operations. Qiskit, on the other hand, is a more comprehensive quantum computing platform that includes a range of tools for quantum circuit construction, optimization, and execution on real quantum hardware. Depending on the user's needs, either library can be a suitable choice for simulating quantum circuits"
   ]
  },
  {
   "cell_type": "markdown",
   "id": "eff8805e",
   "metadata": {},
   "source": [
    "## GHZ Circuit\n",
    "### Introduction\n",
    "The GHZ circuit is a quantum circuit that generates a GHZ state, which is a maximally entangled state. To generate the GHZ state for n qubits, the circuit first applies a Hadamard gate on the first qubit, and then iteratively applies CNOT gates with qubit i as control and i+1 as target, where i = 0, …, n_qubits - 2.\n",
    "\n",
    "\n",
    "### Implementation with quantum-gates\n",
    "To simulate the GHZ circuit using our simulator, we can use the MrAndersonSimulator class from the quantum_gates.simulators module. We recommend parallelizing the outer loop of the simulation and not the shots, as parallelizing the shots comes with a large overhead.\n",
    "\n",
    "Here is an example of how to generate the GHZ circuit for n qubits using the ghz_circ function from the quantum_gates.quantum_algorithms module:\n"
   ]
  },
  {
   "cell_type": "code",
   "execution_count": null,
   "id": "1d8007e4",
   "metadata": {},
   "outputs": [],
   "source": [
    "from quantum_gates.quantum_algorithms import ghz_circ\n",
    "n_qubits = 3\n",
    "ghz_circuit = ghz_circ(n_qubits)"
   ]
  },
  {
   "cell_type": "markdown",
   "id": "eeb8b090",
   "metadata": {},
   "source": [
    "To simulate this circuit using our simulator, we can call the run method of the MrAndersonSimulator object, passing the transpiled Qiskit circuit, the qubits layout, the initial state, the number of shots, the device parameters, and the number of qubits used in the circuit. "
   ]
  },
  {
   "cell_type": "code",
   "execution_count": null,
   "id": "afd6db74",
   "metadata": {},
   "outputs": [],
   "source": [
    "from quantum_gates.simulators import MrAndersonSimulator\n",
    "from quantum_gates.gates import standard_gates\n",
    "from quantum_gates.circuits import EfficientCircuit\n",
    "import numpy as np"
   ]
  },
  {
   "cell_type": "code",
   "execution_count": null,
   "id": "6caaf1f4",
   "metadata": {},
   "outputs": [],
   "source": [
    "simulator = MrAndersonSimulator(\n",
    "    gates=standard_gates,\n",
    "    CircuitClass=EfficientCircuit,\n",
    "    parallel=False\n",
    ")"
   ]
  },
  {
   "cell_type": "code",
   "execution_count": null,
   "id": "6e827d82",
   "metadata": {},
   "outputs": [],
   "source": [
    "qubits_layout = [0, 1, 2]\n",
    "psi0 = np.array([1.0, 0.0, 0.0, 0.0, 0.0, 0.0, 0.0, 0.0]) # initial state\n",
    "shots = 1000\n",
    "device_param = {} \n",
    "n_qubits = 3\n",
    "\n",
    "probs = simulator.run(\n",
    "    ghz_circuit,\n",
    "    qubits_layout,\n",
    "    psi0,\n",
    "    shots,\n",
    "    device_param,\n",
    "    n_qubits\n",
    ")"
   ]
  },
  {
   "cell_type": "markdown",
   "id": "9727559a",
   "metadata": {},
   "source": [
    "### Implementation with Qiskit"
   ]
  },
  {
   "cell_type": "code",
   "execution_count": null,
   "id": "2f96cd4d",
   "metadata": {},
   "outputs": [],
   "source": [
    "from qiskit import QuantumCircuit, execute, Aer\n",
    "\n",
    "# Create a quantum circuit with three qubits\n",
    "circuit = QuantumCircuit(3, 3)\n",
    "\n",
    "# Apply a Hadamard gate to the first qubit\n",
    "circuit.h(0)\n",
    "\n",
    "# Apply CNOT gates with the first qubit as source, and the other qubits as target \n",
    "circuit.cx(0, 1)\n",
    "circuit.cx(1, 2)\n",
    "\n",
    "# Measure all three qubits\n",
    "circuit.measure([0, 1, 2], [0, 1, 2])"
   ]
  },
  {
   "cell_type": "code",
   "execution_count": null,
   "id": "d4dfc7b4",
   "metadata": {},
   "outputs": [],
   "source": [
    "# Use the Aer simulator to run the circuit\n",
    "backend = Aer.get_backend('statevector_simulator')\n",
    "job = execute(circuit, backend, shots=1000)\n",
    "result = job.result()\n",
    "statevector = result.get_statevector()\n",
    "probs = np.abs(statevector) ** 2\n",
    "\n",
    "# Normalize the probabilities\n",
    "probs /= np.sum(probs)\n",
    "probs"
   ]
  },
  {
   "cell_type": "code",
   "execution_count": null,
   "id": "da0e20c3",
   "metadata": {},
   "outputs": [],
   "source": [
    "probs = np.abs(statevector) ** 2\n",
    "\n",
    "# Normalize the probabilities\n",
    "probs /= np.sum(probs)\n",
    "probs"
   ]
  },
  {
   "cell_type": "markdown",
   "id": "1f745104",
   "metadata": {},
   "source": [
    "### Performance comparison\n",
    "Todothe same in Qiskit: "
   ]
  },
  {
   "cell_type": "code",
   "execution_count": null,
   "id": "c3e0b860",
   "metadata": {},
   "outputs": [],
   "source": []
  },
  {
   "cell_type": "markdown",
   "id": "f66a10de",
   "metadata": {},
   "source": [
    "## Hadamard Inverse QFT Circuit\n",
    "### Introduction\n",
    "The Hadamard Inverse Quantum Fourier Transform circuit is a quantum circuit that is perfect for performance testing. It is defined for any qubit number bigger than one and involves entangling operations.\n",
    "\n",
    "### Implementation with quantum-gates\n",
    "Todo\n",
    "\n",
    "### Implementation with Qiskit\n",
    "Todo\n",
    "\n",
    "### Performance comparison\n",
    "Todo"
   ]
  },
  {
   "cell_type": "code",
   "execution_count": null,
   "id": "219d9769",
   "metadata": {},
   "outputs": [],
   "source": []
  },
  {
   "cell_type": "markdown",
   "id": "9753f3ef",
   "metadata": {},
   "source": [
    "## Quantum Support Vector Machine (QSVM)\n",
    "### Introduction\n",
    "Todo\n",
    "\n",
    "### Implementation with quantum-gates\n",
    "Todo\n",
    "\n",
    "### Implementation with Qiskit\n",
    "Todo\n",
    "\n",
    "### Performance comparison\n",
    "Todo"
   ]
  },
  {
   "cell_type": "code",
   "execution_count": null,
   "id": "44d58436",
   "metadata": {},
   "outputs": [],
   "source": []
  }
 ],
 "metadata": {
  "kernelspec": {
   "display_name": "Python 3 (ipykernel)",
   "language": "python",
   "name": "python3"
  },
  "language_info": {
   "codemirror_mode": {
    "name": "ipython",
    "version": 3
   },
   "file_extension": ".py",
   "mimetype": "text/x-python",
   "name": "python",
   "nbconvert_exporter": "python",
   "pygments_lexer": "ipython3",
   "version": "3.9.7"
  }
 },
 "nbformat": 4,
 "nbformat_minor": 5
}
