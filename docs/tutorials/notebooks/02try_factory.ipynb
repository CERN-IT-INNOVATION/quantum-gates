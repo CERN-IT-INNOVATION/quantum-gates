{
 "cells": [
  {
   "cell_type": "code",
   "execution_count": 11,
   "metadata": {},
   "outputs": [],
   "source": [
    "import numpy as np\n",
    "from quantum_gates.integrators import Integrator\n",
    "from quantum_gates.pulses import Pulse\n",
    "from quantum_gates.factories import DepolarizingFactory, SingleQubitGateFactory, XFactory, RelaxationFactory, ECRFactory, ECRInvFactory, CNOTFactory, CNOTInvFactory\n",
    "from qiskit import QuantumRegister, QuantumCircuit, transpile\n",
    "from qiskit_ibm_runtime.fake_provider import FakeBrisbane\n",
    "\n",
    "from qiskit.visualization import plot_bloch_multivector, plot_histogram, array_to_latex\n",
    "from qiskit.quantum_info import Statevector\n",
    "\n",
    "np.set_printoptions(precision=4, suppress=True)"
   ]
  },
  {
   "cell_type": "code",
   "execution_count": 2,
   "metadata": {},
   "outputs": [],
   "source": [
    "# generate a single qubit gate\n",
    "\n",
    "# 1) need to generate a pulse object first\n",
    "pulse = lambda x: 1\n",
    "parametrization = lambda x: x\n",
    "\n",
    "constant_pulse = Pulse(\n",
    "               pulse=pulse,\n",
    "               parametrization=parametrization,\n",
    "               perform_checks=False\n",
    "               )\n",
    "\n",
    "# 2) then an integrator object\n",
    "integr = Integrator(constant_pulse)"
   ]
  },
  {
   "cell_type": "code",
   "execution_count": 3,
   "metadata": {},
   "outputs": [],
   "source": [
    "# data for the ibm_brisbane\n",
    "\n",
    "T1 = [2.5526978064131973e-05, 0.00027756073822360805]\n",
    "T2 = [3.9127212343272855e-05, 0.00022703752860708963]\n",
    "p =  [0.000383139610222721, 0.0005459757307078682]\n",
    "\n",
    "rout = [0.022399999999999975, 0.02059999999999995]\n",
    "p_ecr =  np.array([[0. , 0.01167643], [0.01167643, 0.        ]])\n",
    "t_ecr = np.array([[0.0e+00, 6.6e-07], [6.6e-07, 0.0e+00]]),\n",
    "tm = [4e-06, 4e-06],\n",
    "dt = [5e-10]\n",
    "\n",
    "ecr = ECRFactory(integr)\n",
    "\n",
    "\n",
    "\n",
    "ecr_gate = ecr.construct(0, 0, 6.6e-07, 0.01167643, p[1], p[0], T1[1], T2[1], T1[0], T2[0])\n"
   ]
  },
  {
   "cell_type": "code",
   "execution_count": 4,
   "metadata": {},
   "outputs": [
    {
     "name": "stdout",
     "output_type": "stream",
     "text": [
      "[[ 0.0655+0.039j   0.009 +0.0431j  1.0403+0.1857j  0.0812+0.8935j]\n",
      " [-0.009 +0.0315j  0.0738+0.027j  -0.194 +0.8853j  1.079 -0.0588j]\n",
      " [ 0.9267-0.054j   0.0478-1.0853j -0.0649+0.0584j  0.036 +0.0554j]\n",
      " [-0.1741-1.0556j  0.8738-0.0546j  0.0506+0.045j  -0.0578+0.0576j]]\n",
      "\n",
      "[[0.0029 0.001  0.5583 0.4024]\n",
      " [0.0005 0.0031 0.4107 0.5838]\n",
      " [0.4308 0.5901 0.0038 0.0022]\n",
      " [0.5723 0.3832 0.0023 0.0033]]\n"
     ]
    }
   ],
   "source": [
    "print(ecr_gate*np.sqrt(2))\n",
    "print(\"\")\n",
    "print(np.abs(ecr_gate)**2)"
   ]
  },
  {
   "cell_type": "code",
   "execution_count": 5,
   "metadata": {},
   "outputs": [
    {
     "name": "stdout",
     "output_type": "stream",
     "text": [
      "The ECR gate is: \n",
      " [[ 0.    -0.j      0.    +0.j      0.7071+0.j     -0.    +0.7071j]\n",
      " [ 0.    +0.j      0.    -0.j      0.    +0.7071j  0.7071+0.j    ]\n",
      " [ 0.7071-0.j      0.    -0.7071j  0.    -0.j     -0.    +0.j    ]\n",
      " [-0.    -0.7071j  0.7071-0.j     -0.    +0.j      0.    -0.j    ]]\n"
     ]
    }
   ],
   "source": [
    "#RC gate \n",
    "\n",
    "theta1 = np.pi/4\n",
    "phi1 = np.pi\n",
    "\n",
    "theta2 = -np.pi/4\n",
    "phi2 = np.pi\n",
    "\n",
    "\n",
    "U1 = np.array(\n",
    "            [[np.cos(theta1/2), -1J*np.sin(theta1/2) * np.exp(-1J * phi1), 0, 0],\n",
    "             [-1J*np.sin(theta1/2) * np.exp(1J * phi1), np.cos(theta1/2), 0, 0],\n",
    "             [0, 0, np.cos(theta1/2), 1J*np.sin(theta1/2) * np.exp(-1J * phi1)],\n",
    "             [0, 0, 1J*np.sin(theta1/2) * np.exp(1J * phi1), np.cos(theta1/2)]])\n",
    "\n",
    "U2 = np.array(\n",
    "            [[np.cos(theta2/2), -1J*np.sin(theta2/2) * np.exp(-1J * phi2), 0, 0],\n",
    "             [-1J*np.sin(theta2/2) * np.exp(1J * phi2), np.cos(theta2/2), 0, 0],\n",
    "             [0, 0, np.cos(theta2/2), 1J*np.sin(theta2/2) * np.exp(-1J * phi2)],\n",
    "             [0, 0, 1J*np.sin(theta2/2) * np.exp(1J * phi2), np.cos(theta2/2)]])\n",
    "\n",
    "\n",
    "# x gate\n",
    "\n",
    "theta3 = np.pi\n",
    "phi3 = np.pi\n",
    "\n",
    "X =  -1J*np.array(\n",
    "            [[np.cos(theta3/2), - 1J * np.sin(theta3/2) * np.exp(-1J * phi3)],\n",
    "             [- 1J * np.sin(theta3/2) * np.exp(1J * phi3), np.cos(theta3/2)]]\n",
    "        )\n",
    "\n",
    "\n",
    "# relazation\n",
    "\n",
    "I = np.array([[1,0],[0,1]])\n",
    "\n",
    "ECR = (U1 @ np.kron (X,I) @ U2 ) \n",
    "\n",
    "print(\"The ECR gate is: \\n\",ECR )"
   ]
  },
  {
   "cell_type": "code",
   "execution_count": 6,
   "metadata": {},
   "outputs": [
    {
     "name": "stdout",
     "output_type": "stream",
     "text": [
      "[[ 0.5-0.j   0. +0.5j  0. +0.5j  0.5+0.j ]\n",
      " [-0. -0.5j -0.5+0.j   0.5+0.j  -0. +0.5j]\n",
      " [-0. -0.5j  0.5-0.j  -0.5+0.j  -0. +0.5j]\n",
      " [ 0.5-0.j  -0. -0.5j  0. -0.5j  0.5+0.j ]]\n"
     ]
    }
   ],
   "source": [
    "# Find the \n",
    "\n",
    "B = 1/np.sqrt(2)* np.array([[0, 1, 0, 1J],\n",
    "              [1, 0, -1J, 0],\n",
    "              [0, 1J, 0, 1],\n",
    "              [-1J, 0, 1, 0]])\n",
    "\n",
    "# Calculate the inverse of A\n",
    "ECR_inv = np.linalg.inv(ECR)\n",
    "\n",
    "# Calculate C\n",
    "C = np.dot(B, ECR_inv)\n",
    "\n",
    "print(C)"
   ]
  },
  {
   "cell_type": "code",
   "execution_count": 7,
   "metadata": {},
   "outputs": [
    {
     "name": "stdout",
     "output_type": "stream",
     "text": [
      "[[ 0.    +0.j      0.7071-0.j      0.    -0.j     -0.    +0.7071j]\n",
      " [ 0.7071+0.j     -0.    +0.j     -0.    -0.7071j  0.    +0.j    ]\n",
      " [-0.    +0.j      0.    +0.7071j -0.    +0.j      0.7071+0.j    ]\n",
      " [ 0.    -0.7071j  0.    +0.j      0.7071-0.j     -0.    -0.j    ]]\n"
     ]
    }
   ],
   "source": [
    "print(C @ ECR)"
   ]
  },
  {
   "cell_type": "code",
   "execution_count": 8,
   "metadata": {},
   "outputs": [
    {
     "data": {
      "image/png": "[encoded data removed]",
      "text/plain": [
       "<Figure size 370.906x200.667 with 1 Axes>"
      ]
     },
     "execution_count": 8,
     "metadata": {},
     "output_type": "execute_result"
    }
   ],
   "source": [
    "# Get some random unitary:\n",
    "from qiskit.quantum_info import random_unitary\n",
    "num_qubits = 2\n",
    "\n",
    "# Create the quantum circuit:\n",
    "qr = QuantumRegister(num_qubits, 'q')\n",
    "circ = QuantumCircuit(qr)\n",
    "circ.ecr(1,0)\n",
    "circ.unitary(C, qr)\n",
    "\n",
    "circ.draw('mpl')"
   ]
  },
  {
   "cell_type": "code",
   "execution_count": 9,
   "metadata": {},
   "outputs": [
    {
     "data": {
      "text/latex": [
       "$$\n",
       "\\text{Statevector} = \n",
       "\\begin{bmatrix}\n",
       "0 & \\frac{\\sqrt{2}}{2} & 0 & - \\frac{\\sqrt{2} i}{2}  \\\\\n",
       " \\end{bmatrix}\n",
       "$$"
      ],
      "text/plain": [
       "<IPython.core.display.Latex object>"
      ]
     },
     "metadata": {},
     "output_type": "display_data"
    }
   ],
   "source": [
    "display(array_to_latex(Statevector.from_instruction(circ), prefix=\"\\\\text{Statevector} = \"))"
   ]
  },
  {
   "cell_type": "code",
   "execution_count": 10,
   "metadata": {},
   "outputs": [],
   "source": [
    "backend = FakeBrisbane()\n",
    "\n",
    "# Transpile the ideal circuit to a circuit that can be directly executed by the backend\n",
    "t_circuit = transpile(circ, backend)\n",
    "#t_circuit.draw('mpl', style=\"iqp\")"
   ]
  },
  {
   "cell_type": "code",
   "execution_count": 4,
   "metadata": {},
   "outputs": [
    {
     "name": "stdout",
     "output_type": "stream",
     "text": [
      "[[ 0.+0.j  1.-0.j -0.-0.j  0.+1.j]\n",
      " [ 1.-0.j -0.+0.j -0.-1.j -0.-0.j]\n",
      " [ 0.-0.j -0.+1.j -0.+0.j  1.+0.j]\n",
      " [-0.-1.j  0.-0.j  1.-0.j  0.+0.j]]\n"
     ]
    }
   ],
   "source": [
    "#RC gate \n",
    "\n",
    "theta1 = np.pi/4\n",
    "phi1 = np.pi\n",
    "\n",
    "theta2 = -np.pi/4\n",
    "phi2 = np.pi\n",
    "\n",
    "\n",
    "U1 = np.array(\n",
    "            [[np.cos(theta1/2), -1J*np.sin(theta1/2) * np.exp(-1J * phi1), 0, 0],\n",
    "             [-1J*np.sin(theta1/2) * np.exp(1J * phi1), np.cos(theta1/2), 0, 0],\n",
    "             [0, 0, np.cos(theta1/2), 1J*np.sin(theta1/2) * np.exp(-1J * phi1)],\n",
    "             [0, 0, 1J*np.sin(theta1/2) * np.exp(1J * phi1), np.cos(theta1/2)]])\n",
    "\n",
    "U2 = np.array(\n",
    "            [[np.cos(theta2/2), -1J*np.sin(theta2/2) * np.exp(-1J * phi2), 0, 0],\n",
    "             [-1J*np.sin(theta2/2) * np.exp(1J * phi2), np.cos(theta2/2), 0, 0],\n",
    "             [0, 0, np.cos(theta2/2), 1J*np.sin(theta2/2) * np.exp(-1J * phi2)],\n",
    "             [0, 0, 1J*np.sin(theta2/2) * np.exp(1J * phi2), np.cos(theta2/2)]])\n",
    "\n",
    "\n",
    "# x gate\n",
    "\n",
    "theta3 = np.pi\n",
    "phi3 = 0\n",
    "\n",
    "X =  -1j*np.array(\n",
    "            [[np.cos(theta3/2), - 1J * np.sin(theta3/2) * np.exp(-1J * phi3)],\n",
    "             [- 1J * np.sin(theta3/2) * np.exp(1J * phi3), np.cos(theta3/2)]]\n",
    "        )\n",
    "\n",
    "# relazation\n",
    "\n",
    "theta_I = 0\n",
    "phi_I = np.pi\n",
    "\n",
    "I = np.array(\n",
    "            [[np.cos(theta_I/2), - 1J * np.sin(theta_I/2) * np.exp(-1J * phi_I)],\n",
    "             [- 1J * np.sin(theta_I/2) * np.exp(1J * phi_I), np.cos(theta_I/2)]]\n",
    "        )\n",
    "\n",
    "# sx gates\n",
    "\n",
    "theta = np.pi/2\n",
    "phi_sx_1 = np.pi/2\n",
    "phi_sx_2 = np.pi/2\n",
    "phi_sx_3 = np.pi/2\n",
    "phi_sx_4 = np.pi/2\n",
    "\n",
    "\n",
    "Sx1 = np.array(\n",
    "            [[np.cos(theta/2), - 1J * np.sin(theta/2) * np.exp(-1J * phi_sx_1)],\n",
    "             [- 1J * np.sin(theta/2) * np.exp(1J * phi_sx_1), np.cos(theta/2)]])\n",
    "\n",
    "Sx2 = np.array(\n",
    "            [[np.cos(theta/2), - 1J * np.sin(theta/2) * np.exp(-1J * phi_sx_2)],\n",
    "             [- 1J * np.sin(theta/2) * np.exp(1J * phi_sx_2), np.cos(theta/2)]])\n",
    "\n",
    "Sx3 = np.array(\n",
    "            [[np.cos(theta/2), - 1J * np.sin(theta/2) * np.exp(-1J * phi_sx_3)],\n",
    "             [- 1J * np.sin(theta/2) * np.exp(1J * phi_sx_3), np.cos(theta/2)]])\n",
    "\n",
    "Sx4 = np.array(\n",
    "            [[np.cos(theta/2), - 1J * np.sin(theta/2) * np.exp(-1J * phi_sx_4)],\n",
    "             [- 1J * np.sin(theta/2) * np.exp(1J * phi_sx_4), np.cos(theta/2)]])\n",
    "\n",
    "theta_fix = np.pi\n",
    "phi_fix = np.pi/2\n",
    "\n",
    "U_fix = np.array(\n",
    "            [[np.cos(theta_fix/2), - 1J * np.sin(theta_fix/2) * np.exp(-1J * phi_fix)],\n",
    "             [- 1J * np.sin(theta_fix/2) * np.exp(1J * phi_fix), np.cos(theta_fix/2)]])\n",
    "\n",
    "\n",
    "ECR_inv = 1j* np.kron(Sx1, Sx2) @ (U1 @ np.kron (X,I) @ U2 )  @ np.kron(Sx3, Sx4) \n",
    "\n",
    "print(ECR_inv* np.sqrt(2))\n"
   ]
  },
  {
   "cell_type": "code",
   "execution_count": 8,
   "metadata": {},
   "outputs": [
    {
     "name": "stdout",
     "output_type": "stream",
     "text": [
      "[[-0.0479+0.0282j  1.1389+0.0397j -0.0516-0.0406j -0.2052+1.094j ]\n",
      " [ 0.8591-0.0854j  0.052 -0.0019j  0.0913-0.8777j  0.0349-0.0174j]\n",
      " [-0.0504-0.0095j  0.2174+0.8502j -0.0561+0.015j   0.8724+0.0855j]\n",
      " [-0.0887-1.1357j  0.0425-0.0396j  1.1154+0.004j   0.0482+0.0096j]]\n"
     ]
    }
   ],
   "source": [
    "ecr_in = ECRInvFactory(integr)\n",
    "\n",
    "\n",
    "\n",
    "ecr_in_gate = ecr_in.construct(0, 0, 6.6e-07, 0.01167643, p[0], p[1], T1[0], T2[0], T1[1], T2[1])\n",
    "print(ecr_in_gate*np.sqrt(2))\n"
   ]
  },
  {
   "cell_type": "code",
   "execution_count": 9,
   "metadata": {},
   "outputs": [
    {
     "name": "stdout",
     "output_type": "stream",
     "text": [
      "[[0.0015 0.6494 0.0022 0.6194]\n",
      " [0.3726 0.0014 0.3894 0.0008]\n",
      " [0.0013 0.3851 0.0017 0.3842]\n",
      " [0.6489 0.0017 0.6221 0.0012]]\n"
     ]
    }
   ],
   "source": [
    "print(np.abs(ecr_in_gate)**2)"
   ]
  },
  {
   "cell_type": "code",
   "execution_count": 15,
   "metadata": {},
   "outputs": [
    {
     "name": "stdout",
     "output_type": "stream",
     "text": [
      "[[ 0.0628+0.9892j -0.08  -0.0514j -0.0537-0.0327j -0.0335+0.0333j]\n",
      " [-0.0526+0.0565j  0.0219+0.9957j -0.0401+0.0305j -0.0526-0.0335j]\n",
      " [ 0.0027-0.0411j -0.0282-0.014j  -0.0247-0.0695j -0.9865-0.014j ]\n",
      " [-0.0274-0.0177j  0.0074-0.0397j -0.9763-0.075j   0.0318-0.0567j]]\n",
      "[[0.9825 0.009  0.004  0.0022]\n",
      " [0.006  0.9919 0.0025 0.0039]\n",
      " [0.0017 0.001  0.0054 0.9734]\n",
      " [0.0011 0.0016 0.9589 0.0042]]\n"
     ]
    }
   ],
   "source": [
    "cnot = CNOTFactory(integr)\n",
    "\n",
    "cnot_gate = cnot.construct(0, 0, 6.6e-07, 0.01167643, p[0], p[1], T1[0], T2[0], T1[1], T2[1])\n",
    "\n",
    "print(cnot_gate)\n",
    "\n",
    "print(np.abs(cnot_gate)**2)"
   ]
  },
  {
   "cell_type": "code",
   "execution_count": 16,
   "metadata": {},
   "outputs": [
    {
     "name": "stdout",
     "output_type": "stream",
     "text": [
      "[[-0.798 -0.5884j  0.0294+0.0362j  0.0495+0.0121j -0.0531+0.0237j]\n",
      " [-0.1929+0.099j  -0.0402+0.0841j  0.0378-0.0426j  0.7994-0.5653j]\n",
      " [-0.0701+0.0218j  0.0228+0.0523j -0.6623+0.7347j  0.0433-0.017j ]\n",
      " [-0.0392-0.0138j -0.6537-0.7257j  0.0944+0.1925j -0.0475-0.0973j]]\n",
      "[[0.983  0.0022 0.0026 0.0034]\n",
      " [0.047  0.0087 0.0032 0.9587]\n",
      " [0.0054 0.0032 0.9785 0.0022]\n",
      " [0.0017 0.9541 0.046  0.0117]]\n"
     ]
    }
   ],
   "source": [
    "cnot_inv = CNOTInvFactory(integr)\n",
    "\n",
    "cnot_inv_gate = cnot_inv.construct(0, 0, 6.6e-07, 0.01167643, p[0], p[1], T1[0], T2[0], T1[1], T2[1])\n",
    "\n",
    "print(cnot_inv_gate)\n",
    "\n",
    "print(np.abs(cnot_inv_gate)**2)"
   ]
  }
 ],
 "metadata": {
  "kernelspec": {
   "display_name": "quantum-gates",
   "language": "python",
   "name": "python3"
  },
  "language_info": {
   "codemirror_mode": {
    "name": "ipython",
    "version": 3
   },
   "file_extension": ".py",
   "mimetype": "text/x-python",
   "name": "python",
   "nbconvert_exporter": "python",
   "pygments_lexer": "ipython3",
   "version": "3.9.19"
  }
 },
 "nbformat": 4,
 "nbformat_minor": 2
}
