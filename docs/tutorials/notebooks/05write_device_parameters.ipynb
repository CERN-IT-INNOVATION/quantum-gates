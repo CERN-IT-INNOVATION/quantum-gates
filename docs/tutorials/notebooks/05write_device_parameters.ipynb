{
 "cells": [
  {
   "cell_type": "code",
   "execution_count": 21,
   "metadata": {},
   "outputs": [],
   "source": [
    "from qiskit_ibm_runtime import QiskitRuntimeService\n",
    "from quantum_gates.utilities import DeviceParameters\n",
    "import numpy as np\n",
    "\n",
    "from configuration.token import IBM_TOKEN"
   ]
  },
  {
   "cell_type": "code",
   "execution_count": 22,
   "metadata": {},
   "outputs": [],
   "source": [
    "# Provider\n",
    "provider = QiskitRuntimeService(channel= 'ibm_quantum', token=IBM_TOKEN)"
   ]
  },
  {
   "cell_type": "code",
   "execution_count": 23,
   "metadata": {},
   "outputs": [],
   "source": [
    "location = 'tests/helpers/device_parameters/ibm_kyiv/'"
   ]
  },
  {
   "cell_type": "code",
   "execution_count": 24,
   "metadata": {},
   "outputs": [
    {
     "name": "stderr",
     "output_type": "stream",
     "text": [
      "/var/folders/8r/rk87_q2x6q73135zrfmsjxgw0000gn/T/ipykernel_61473/324428732.py:2: DeprecationWarning: The get_backend() method is deprecated as of qiskit-ibm-runtime 0.24 and will be removed no sooner than 3 months after the release date. Please use backend() instead.\n",
      "  backend = provider.get_backend('ibm_kyiv')\n"
     ]
    },
    {
     "name": "stdout",
     "output_type": "stream",
     "text": [
      "Device parameters are valid. We can save them. \n",
      "Device parameters saved successfully.\n"
     ]
    }
   ],
   "source": [
    "qubits_layout = np.arange(30)\n",
    "backend = provider.backend('ibm_kyiv')\n",
    "prop = backend.properties()\n",
    "device_param = DeviceParameters(qubits_layout)\n",
    "device_param.load_from_backend(backend)\n",
    "device_param.save_to_texts(location)"
   ]
  },
  {
   "cell_type": "code",
   "execution_count": null,
   "metadata": {},
   "outputs": [],
   "source": []
  }
 ],
 "metadata": {
  "kernelspec": {
   "display_name": "Quantum1",
   "language": "python",
   "name": "python3"
  },
  "language_info": {
   "codemirror_mode": {
    "name": "ipython",
    "version": 3
   },
   "file_extension": ".py",
   "mimetype": "text/x-python",
   "name": "python",
   "nbconvert_exporter": "python",
   "pygments_lexer": "ipython3",
   "version": "3.9.19"
  }
 },
 "nbformat": 4,
 "nbformat_minor": 2
}
