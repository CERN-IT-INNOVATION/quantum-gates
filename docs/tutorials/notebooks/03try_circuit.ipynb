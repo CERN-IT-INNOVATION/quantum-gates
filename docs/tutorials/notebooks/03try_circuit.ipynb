{
 "cells": [
  {
   "cell_type": "code",
   "execution_count": 1,
   "metadata": {},
   "outputs": [],
   "source": [
    "from quantum_gates._simulation.circuit import Circuit, EfficientCircuit, AlternativeCircuit\n",
    "from quantum_gates.gates import standard_gates\n",
    "from quantum_gates.backends import EfficientBackend\n",
    "from quantum_gates.utilities import DeviceParameters\n",
    "\n",
    "from qiskit_ibm_provider import IBMProvider\n",
    "\n",
    "import numpy as np\n",
    "import functools as ft\n",
    "\n",
    "from configuration.token import IBM_TOKEN"
   ]
  },
  {
   "cell_type": "code",
   "execution_count": 2,
   "metadata": {},
   "outputs": [],
   "source": [
    "provider = IBMProvider(token=IBM_TOKEN)\n",
    "backend = provider.get_backend('ibm_brisbane')\n",
    "prop = backend.properties()"
   ]
  },
  {
   "cell_type": "code",
   "execution_count": 3,
   "metadata": {},
   "outputs": [],
   "source": [
    "qubits_layout = [0,1,2,3,4] # 5 qubit\n",
    "device_param = DeviceParameters(qubits_layout)\n",
    "device_param.load_from_backend(backend)\n",
    "device_param_lookup = device_param.__dict__()"
   ]
  },
  {
   "cell_type": "code",
   "execution_count": 4,
   "metadata": {},
   "outputs": [],
   "source": [
    "t1 = device_param_lookup['T1']\n",
    "t2 = device_param_lookup['T2']\n",
    "p = device_param_lookup['p']\n",
    "rout = device_param_lookup['rout']\n",
    "p_ecr = device_param_lookup['p_ecr']\n",
    "t_ecr = device_param_lookup['t_ecr']\n",
    "tm = device_param_lookup['tm']\n",
    "dt = device_param_lookup['dt']"
   ]
  },
  {
   "cell_type": "code",
   "execution_count": 5,
   "metadata": {},
   "outputs": [
    {
     "data": {
      "text/plain": [
       "0.006912295774796268"
      ]
     },
     "execution_count": 5,
     "metadata": {},
     "output_type": "execute_result"
    }
   ],
   "source": [
    "p_ecr[0,1]"
   ]
  },
  {
   "cell_type": "code",
   "execution_count": 10,
   "metadata": {},
   "outputs": [],
   "source": [
    "# Create the transpiled circuit followinf the IBM_brisbane quantum computer set up for the first Bell state\n",
    "\n",
    "\n",
    "\n",
    "\n",
    "psi_start = np.array([1,0,0,0])\n",
    "\n",
    "#circuit = Circuit(nqubit=2, depth=3, gates=standard_gates)\n",
    "#circuit = EfficientCircuit(nqubit=3, depth=3, gates=standard_gates)\n",
    "circuit = AlternativeCircuit(nqubit=2, gates= standard_gates, BackendClass= EfficientBackend)\n",
    "\n",
    "\n",
    "circuit.Rz(i = 0, theta= -np.pi)\n",
    "circuit.Rz(i = 1, theta= -np.pi/2)\n",
    "#circuit.X(i = 2, p = p[2], T1=t1[2], T2= t2[2])\n",
    "\n",
    "\n",
    "circuit.SX(i = 0, p = p[0], T1 = t1[0],T2 = t2[0])\n",
    "circuit.SX(i = 1, p = p[1], T1 = t1[1], T2 = t2[1])\n",
    "\n",
    "circuit.Rz(i = 1, theta = -np.pi)\n",
    "circuit.ECR(i = 0, k = 1, t_ecr=t_ecr[0,1], p_i_k = p_ecr[0,1], p_i = p[1], p_k=p[0], T1_ctr = t1[1], T1_trg = t1[0], T2_ctr = t2[1], T2_trg= t2[0])\n",
    "\n",
    "circuit.Rz(i = 0, theta= -np.pi/2)\n",
    "circuit.Rz(i = 1, theta= np.pi/2)\n",
    "\n",
    "circuit.SX(i = 0, p = p[0], T1 = t1[0],T2 = t2[0])\n",
    "circuit.SX(i = 1, p = p[1], T1 = t1[1], T2 = t2[1])\n",
    "\n",
    "circuit.Rz(i = 0, theta= np.pi/2)\n",
    "circuit.Rz(i = 1, theta= np.pi/2)\n",
    "\n",
    "\n"
   ]
  },
  {
   "cell_type": "code",
   "execution_count": 11,
   "metadata": {},
   "outputs": [
    {
     "name": "stdout",
     "output_type": "stream",
     "text": [
      "Probs:  [0.00127077 0.00259106 0.43710291 0.46348067]\n"
     ]
    }
   ],
   "source": [
    "#np.set_printoptions(precision=4, suppress=True)\n",
    "psi1 = circuit.statevector(psi0=psi_start)\n",
    "print(\"Probs: \", np.abs(psi1)**2)\n"
   ]
  },
  {
   "cell_type": "code",
   "execution_count": null,
   "metadata": {},
   "outputs": [],
   "source": []
  }
 ],
 "metadata": {
  "kernelspec": {
   "display_name": "quantum-gates",
   "language": "python",
   "name": "python3"
  },
  "language_info": {
   "codemirror_mode": {
    "name": "ipython",
    "version": 3
   },
   "file_extension": ".py",
   "mimetype": "text/x-python",
   "name": "python",
   "nbconvert_exporter": "python",
   "pygments_lexer": "ipython3",
   "version": "3.9.19"
  }
 },
 "nbformat": 4,
 "nbformat_minor": 2
}
