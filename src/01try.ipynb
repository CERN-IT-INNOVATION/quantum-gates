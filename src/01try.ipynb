{
 "cells": [
  {
   "cell_type": "code",
   "execution_count": 10,
   "metadata": {},
   "outputs": [],
   "source": [
    "# Standard libraries\n",
    "import numpy as np\n",
    "import json\n",
    "from datetime import datetime\n",
    "\n",
    "# Qiskit\n",
    "from qiskit import QuantumCircuit, transpile\n",
    "from qiskit.visualization import plot_histogram\n",
    "\n",
    "# Own library\n",
    "from quantum_gates.simulators import MrAndersonSimulator\n",
    "from quantum_gates.gates import standard_gates\n",
    "from quantum_gates.circuits import EfficientCircuit\n",
    "from quantum_gates.utilities import DeviceParameters\n",
    "from quantum_gates.utilities import setup_backend\n",
    "IBM_TOKEN = \"56ce0886112e6a0e86ea8eb83e379902e1616cb99deb2ca3505aff78cabeece4757dd9a3e7589dbe9506a643f1876dbf78c2a3444c7a8be123ba413870a11060\"\n"
   ]
  },
  {
   "cell_type": "code",
   "execution_count": 11,
   "metadata": {},
   "outputs": [
    {
     "data": {
      "image/png": "[encoded data removed]",
      "text/plain": [
       "<Figure size 538.128x284.278 with 1 Axes>"
      ]
     },
     "execution_count": 11,
     "metadata": {},
     "output_type": "execute_result"
    }
   ],
   "source": [
    "circ = QuantumCircuit(2,2)\n",
    "circ.h(0)\n",
    "circ.cx(0,1)\n",
    "\n",
    "circ.barrier(range(2))\n",
    "circ.measure(range(2),range(2))\n",
    "circ.draw('mpl')\n"
   ]
  },
  {
   "cell_type": "code",
   "execution_count": 15,
   "metadata": {},
   "outputs": [],
   "source": [
    "config = {\n",
    "    \"backend\": {\n",
    "        \"hub\": \"ibm-q\",\n",
    "        \"group\": \"open\",\n",
    "        \"project\": \"main\",\n",
    "        \"device_name\": \"ibmq_kyoto\"\n",
    "    },\n",
    "    \"run\": {\n",
    "        \"shots\": 1000,\n",
    "        \"qubits_layout\": [0, 1],\n",
    "        \"psi0\": [1, 0, 0, 0]\n",
    "    }\n",
    "}"
   ]
  },
  {
   "cell_type": "code",
   "execution_count": 12,
   "metadata": {},
   "outputs": [],
   "source": [
    "from qiskit_ibm_provider import IBMProvider\n",
    "provider = IBMProvider(token=IBM_TOKEN)"
   ]
  },
  {
   "cell_type": "code",
   "execution_count": 13,
   "metadata": {},
   "outputs": [
    {
     "name": "stdout",
     "output_type": "stream",
     "text": [
      "[<IBMBackend('ibm_osaka')>, <IBMBackend('ibmq_qasm_simulator')>, <IBMBackend('simulator_extended_stabilizer')>, <IBMBackend('simulator_mps')>, <IBMBackend('simulator_statevector')>, <IBMBackend('simulator_stabilizer')>, <IBMBackend('ibm_brisbane')>, <IBMBackend('ibm_kyoto')>]\n"
     ]
    }
   ],
   "source": [
    "print(provider.backends())"
   ]
  },
  {
   "cell_type": "code",
   "execution_count": 16,
   "metadata": {},
   "outputs": [],
   "source": [
    "#backend_config = config[\"backend\"]\n",
    "#backend = setup_backend(Token=IBM_TOKEN, **backend_config)\n",
    "\n",
    "backend = provider.get_backend('ibm_kyoto')\n",
    "\n",
    "run_config = config[\"run\"]"
   ]
  },
  {
   "cell_type": "code",
   "execution_count": 17,
   "metadata": {},
   "outputs": [],
   "source": [
    "\n",
    "\"\"\" Load device parameters from the IBM backend. \"\"\"\n",
    "\n",
    "qubits_layout = [0,1]\n",
    "nr_of_qubits = len(qubits_layout)\n",
    "\n",
    "# Load\n",
    "prop = backend.properties()\n",
    "config = backend.configuration()\n",
    "defaults = backend.defaults()\n"
   ]
  },
  {
   "cell_type": "code",
   "execution_count": 56,
   "metadata": {},
   "outputs": [],
   "source": [
    "\n",
    "\n",
    "T1 = [prop.t1(j) for j in qubits_layout]\n",
    "T2 = [prop.t2(j) for j in qubits_layout]\n",
    "p = [prop.gate_error('x', [j]) for j in qubits_layout]\n",
    "rout = [prop.readout_error(j) for j in qubits_layout]\n",
    "dt = [backend.configuration().dt]\n",
    "tm = [prop.readout_length(j) for j in qubits_layout]\n",
    "metadata = {\n",
    "            \"version\": datetime.today().strftime('%Y%m%d'),\n",
    "            \"device\": config.backend_name,\n",
    "            \"qubits\": config.n_qubits,\n",
    "            \"qubits_layout\": qubits_layout,\n",
    "            \"config\": config.to_dict()\n",
    "}\n",
    "\n",
    "\n",
    "t_ecr = np.zeros((nr_of_qubits, nr_of_qubits))\n",
    "p_ecr = np.zeros((nr_of_qubits, nr_of_qubits))\n",
    "\n",
    "\n"
   ]
  },
  {
   "cell_type": "code",
   "execution_count": 58,
   "metadata": {},
   "outputs": [
    {
     "ename": "BackendPropertyError",
     "evalue": "'Could not find the desired property for ecr'",
     "output_type": "error",
     "traceback": [
      "\u001b[0;31m---------------------------------------------------------------------------\u001b[0m",
      "\u001b[0;31mKeyError\u001b[0m                                  Traceback (most recent call last)",
      "File \u001b[0;32m~/opt/anaconda3/envs/quantum-gates/lib/python3.9/site-packages/qiskit/providers/models/backendproperties.py:301\u001b[0m, in \u001b[0;36mBackendProperties.gate_property\u001b[0;34m(self, gate, qubits, name)\u001b[0m\n\u001b[1;32m    300\u001b[0m     qubits \u001b[38;5;241m=\u001b[39m \u001b[38;5;28mtuple\u001b[39m([qubits])\n\u001b[0;32m--> 301\u001b[0m result \u001b[38;5;241m=\u001b[39m \u001b[43mresult\u001b[49m\u001b[43m[\u001b[49m\u001b[38;5;28;43mtuple\u001b[39;49m\u001b[43m(\u001b[49m\u001b[43mqubits\u001b[49m\u001b[43m)\u001b[49m\u001b[43m]\u001b[49m\n\u001b[1;32m    302\u001b[0m \u001b[38;5;28;01mif\u001b[39;00m name:\n",
      "\u001b[0;31mKeyError\u001b[0m: (0, 1)",
      "\nThe above exception was the direct cause of the following exception:\n",
      "\u001b[0;31mBackendPropertyError\u001b[0m                      Traceback (most recent call last)",
      "Cell \u001b[0;32mIn[58], line 12\u001b[0m\n\u001b[1;32m     10\u001b[0m                     p_ecr[i][i\u001b[38;5;241m+\u001b[39m\u001b[38;5;241m1\u001b[39m] \u001b[38;5;241m=\u001b[39m prop\u001b[38;5;241m.\u001b[39mgate_error(\u001b[38;5;124m'\u001b[39m\u001b[38;5;124mecr\u001b[39m\u001b[38;5;124m'\u001b[39m, [qubits_layout[i\u001b[38;5;241m+\u001b[39m\u001b[38;5;241m1\u001b[39m], qubits_layout[i]])\n\u001b[1;32m     11\u001b[0m                 \u001b[38;5;28;01mif\u001b[39;00m i \u001b[38;5;241m==\u001b[39m nr_of_qubits\u001b[38;5;241m-\u001b[39m\u001b[38;5;241m1\u001b[39m:\n\u001b[0;32m---> 12\u001b[0m                     t_ecr[i][i\u001b[38;5;241m-\u001b[39m\u001b[38;5;241m1\u001b[39m] \u001b[38;5;241m=\u001b[39m \u001b[43mprop\u001b[49m\u001b[38;5;241;43m.\u001b[39;49m\u001b[43mgate_length\u001b[49m\u001b[43m(\u001b[49m\u001b[38;5;124;43m'\u001b[39;49m\u001b[38;5;124;43mecr\u001b[39;49m\u001b[38;5;124;43m'\u001b[39;49m\u001b[43m,\u001b[49m\u001b[43m \u001b[49m\u001b[43m[\u001b[49m\u001b[43mqubits_layout\u001b[49m\u001b[43m[\u001b[49m\u001b[43mi\u001b[49m\u001b[38;5;241;43m-\u001b[39;49m\u001b[38;5;241;43m1\u001b[39;49m\u001b[43m]\u001b[49m\u001b[43m,\u001b[49m\u001b[43m \u001b[49m\u001b[43mqubits_layout\u001b[49m\u001b[43m[\u001b[49m\u001b[43mi\u001b[49m\u001b[43m]\u001b[49m\u001b[43m]\u001b[49m\u001b[43m)\u001b[49m\n\u001b[1;32m     13\u001b[0m                     p_ecr[i][i\u001b[38;5;241m-\u001b[39m\u001b[38;5;241m1\u001b[39m] \u001b[38;5;241m=\u001b[39m prop\u001b[38;5;241m.\u001b[39mgate_error(\u001b[38;5;124m'\u001b[39m\u001b[38;5;124mecr\u001b[39m\u001b[38;5;124m'\u001b[39m, [qubits_layout[i\u001b[38;5;241m-\u001b[39m\u001b[38;5;241m1\u001b[39m], qubits_layout[i]])\n\u001b[1;32m     14\u001b[0m t_ecr \u001b[38;5;241m=\u001b[39m t_ecr\n",
      "File \u001b[0;32m~/opt/anaconda3/envs/quantum-gates/lib/python3.9/site-packages/qiskit/providers/models/backendproperties.py:367\u001b[0m, in \u001b[0;36mBackendProperties.gate_length\u001b[0;34m(self, gate, qubits)\u001b[0m\n\u001b[1;32m    356\u001b[0m \u001b[38;5;28;01mdef\u001b[39;00m \u001b[38;5;21mgate_length\u001b[39m(\u001b[38;5;28mself\u001b[39m, gate: \u001b[38;5;28mstr\u001b[39m, qubits: Union[\u001b[38;5;28mint\u001b[39m, Iterable[\u001b[38;5;28mint\u001b[39m]]) \u001b[38;5;241m-\u001b[39m\u001b[38;5;241m>\u001b[39m \u001b[38;5;28mfloat\u001b[39m:\n\u001b[1;32m    357\u001b[0m \u001b[38;5;250m    \u001b[39m\u001b[38;5;124;03m\"\"\"\u001b[39;00m\n\u001b[1;32m    358\u001b[0m \u001b[38;5;124;03m    Return the duration of the gate in units of seconds.\u001b[39;00m\n\u001b[1;32m    359\u001b[0m \n\u001b[0;32m   (...)\u001b[0m\n\u001b[1;32m    365\u001b[0m \u001b[38;5;124;03m        Gate length of the given gate and qubit(s).\u001b[39;00m\n\u001b[1;32m    366\u001b[0m \u001b[38;5;124;03m    \"\"\"\u001b[39;00m\n\u001b[0;32m--> 367\u001b[0m     \u001b[38;5;28;01mreturn\u001b[39;00m \u001b[38;5;28;43mself\u001b[39;49m\u001b[38;5;241;43m.\u001b[39;49m\u001b[43mgate_property\u001b[49m\u001b[43m(\u001b[49m\u001b[43mgate\u001b[49m\u001b[43m,\u001b[49m\u001b[43m \u001b[49m\u001b[43mqubits\u001b[49m\u001b[43m,\u001b[49m\u001b[43m \u001b[49m\u001b[38;5;124;43m\"\u001b[39;49m\u001b[38;5;124;43mgate_length\u001b[39;49m\u001b[38;5;124;43m\"\u001b[39;49m\u001b[43m)\u001b[49m[\u001b[38;5;241m0\u001b[39m]\n",
      "File \u001b[0;32m~/opt/anaconda3/envs/quantum-gates/lib/python3.9/site-packages/qiskit/providers/models/backendproperties.py:307\u001b[0m, in \u001b[0;36mBackendProperties.gate_property\u001b[0;34m(self, gate, qubits, name)\u001b[0m\n\u001b[1;32m    305\u001b[0m         \u001b[38;5;28;01mraise\u001b[39;00m BackendPropertyError(\u001b[38;5;124mf\u001b[39m\u001b[38;5;124m\"\u001b[39m\u001b[38;5;124mProvide qubits to get \u001b[39m\u001b[38;5;132;01m{\u001b[39;00mname\u001b[38;5;132;01m}\u001b[39;00m\u001b[38;5;124m of \u001b[39m\u001b[38;5;132;01m{\u001b[39;00mgate\u001b[38;5;132;01m}\u001b[39;00m\u001b[38;5;124m\"\u001b[39m)\n\u001b[1;32m    306\u001b[0m \u001b[38;5;28;01mexcept\u001b[39;00m \u001b[38;5;167;01mKeyError\u001b[39;00m \u001b[38;5;28;01mas\u001b[39;00m ex:\n\u001b[0;32m--> 307\u001b[0m     \u001b[38;5;28;01mraise\u001b[39;00m BackendPropertyError(\u001b[38;5;124mf\u001b[39m\u001b[38;5;124m\"\u001b[39m\u001b[38;5;124mCould not find the desired property for \u001b[39m\u001b[38;5;132;01m{\u001b[39;00mgate\u001b[38;5;132;01m}\u001b[39;00m\u001b[38;5;124m\"\u001b[39m) \u001b[38;5;28;01mfrom\u001b[39;00m \u001b[38;5;21;01mex\u001b[39;00m\n\u001b[1;32m    308\u001b[0m \u001b[38;5;28;01mreturn\u001b[39;00m result\n",
      "\u001b[0;31mBackendPropertyError\u001b[0m: 'Could not find the desired property for ecr'"
     ]
    }
   ],
   "source": [
    "\n",
    "if nr_of_qubits > 1:\n",
    "            for i in range(nr_of_qubits):\n",
    "                if i == 0:\n",
    "                    t_ecr[0][1] = prop.gate_length('ecr', [qubits_layout[1], qubits_layout[0]])\n",
    "                    p_ecr[0][1] = prop.gate_error('ecr', [qubits_layout[1], qubits_layout[0]])\n",
    "                if i != 0 and i != nr_of_qubits-1:\n",
    "                    t_ecr[i][i-1] = prop.gate_length('ecr', [qubits_layout[i-1], qubits_layout[i]])\n",
    "                    p_ecr[i][i-1] = prop.gate_error('ecr', [qubits_layout[i-1], qubits_layout[i]])\n",
    "                    t_ecr[i][i+1] = prop.gate_length('ecr', [qubits_layout[i+1], qubits_layout[i]])\n",
    "                    p_ecr[i][i+1] = prop.gate_error('ecr', [qubits_layout[i+1], qubits_layout[i]])\n",
    "                if i == nr_of_qubits-1:\n",
    "                    t_ecr[i][i-1] = prop.gate_length('ecr', [qubits_layout[i-1], qubits_layout[i]])\n",
    "                    p_ecr[i][i-1] = prop.gate_error('ecr', [qubits_layout[i-1], qubits_layout[i]])\n",
    "t_ecr = t_ecr\n",
    "p_ecr = p_ecr"
   ]
  },
  {
   "cell_type": "code",
   "execution_count": null,
   "metadata": {},
   "outputs": [],
   "source": [
    "qubits_layout = run_config[\"qubits_layout\"]\n",
    "device_param = DeviceParameters(qubits_layout)\n",
    "device_param.load_from_backend(backend)\n",
    "device_param_lookup = device_param.__dict__()"
   ]
  },
  {
   "cell_type": "code",
   "execution_count": 104,
   "metadata": {},
   "outputs": [],
   "source": [
    "sim = MrAndersonSimulator(gates=standard_gates, CircuitClass=EfficientCircuit)\n",
    "\n",
    "t_circ = transpile(\n",
    "    circ,\n",
    "    backend,\n",
    "    scheduling_method='asap',\n",
    "    initial_layout=qubits_layout,\n",
    "    seed_transpiler=42\n",
    ")\n"
   ]
  },
  {
   "cell_type": "code",
   "execution_count": 98,
   "metadata": {},
   "outputs": [
    {
     "ename": "TypeError",
     "evalue": "run() missing 1 required positional argument: 'device_param'",
     "output_type": "error",
     "traceback": [
      "\u001b[0;31m---------------------------------------------------------------------------\u001b[0m",
      "\u001b[0;31mTypeError\u001b[0m                                 Traceback (most recent call last)",
      "Cell \u001b[0;32mIn[98], line 1\u001b[0m\n\u001b[0;32m----> 1\u001b[0m probs \u001b[38;5;241m=\u001b[39m \u001b[43msim\u001b[49m\u001b[38;5;241;43m.\u001b[39;49m\u001b[43mrun\u001b[49m\u001b[43m(\u001b[49m\n\u001b[1;32m      2\u001b[0m \u001b[43m    \u001b[49m\u001b[43mt_qiskit_circ\u001b[49m\u001b[38;5;241;43m=\u001b[39;49m\u001b[43mt_circ\u001b[49m\u001b[43m,\u001b[49m\u001b[43m \u001b[49m\n\u001b[1;32m      3\u001b[0m \u001b[43m    \u001b[49m\u001b[43mqubits_layout\u001b[49m\u001b[38;5;241;43m=\u001b[39;49m\u001b[43mqubits_layout\u001b[49m\u001b[43m,\u001b[49m\u001b[43m \u001b[49m\n\u001b[1;32m      4\u001b[0m \u001b[43m    \u001b[49m\u001b[43mpsi0\u001b[49m\u001b[38;5;241;43m=\u001b[39;49m\u001b[43mnp\u001b[49m\u001b[38;5;241;43m.\u001b[39;49m\u001b[43marray\u001b[49m\u001b[43m(\u001b[49m\u001b[43mrun_config\u001b[49m\u001b[43m[\u001b[49m\u001b[38;5;124;43m\"\u001b[39;49m\u001b[38;5;124;43mpsi0\u001b[39;49m\u001b[38;5;124;43m\"\u001b[39;49m\u001b[43m]\u001b[49m\u001b[43m)\u001b[49m\u001b[43m,\u001b[49m\u001b[43m \u001b[49m\n\u001b[1;32m      5\u001b[0m \u001b[43m    \u001b[49m\u001b[43mshots\u001b[49m\u001b[38;5;241;43m=\u001b[39;49m\u001b[43mrun_config\u001b[49m\u001b[43m[\u001b[49m\u001b[38;5;124;43m\"\u001b[39;49m\u001b[38;5;124;43mshots\u001b[39;49m\u001b[38;5;124;43m\"\u001b[39;49m\u001b[43m]\u001b[49m\u001b[43m,\u001b[49m\u001b[43m \u001b[49m\n\u001b[1;32m      6\u001b[0m \u001b[43m    \u001b[49m\u001b[38;5;66;43;03m#device_param=device_param_lookup,\u001b[39;49;00m\n\u001b[1;32m      7\u001b[0m \u001b[43m    \u001b[49m\u001b[43mnqubit\u001b[49m\u001b[38;5;241;43m=\u001b[39;49m\u001b[38;5;241;43m2\u001b[39;49m\u001b[43m)\u001b[49m\n\u001b[1;32m      9\u001b[0m counts_ng \u001b[38;5;241m=\u001b[39m {\u001b[38;5;28mformat\u001b[39m(i, \u001b[38;5;124m'\u001b[39m\u001b[38;5;124mb\u001b[39m\u001b[38;5;124m'\u001b[39m)\u001b[38;5;241m.\u001b[39mzfill(\u001b[38;5;241m2\u001b[39m): probs[i] \u001b[38;5;28;01mfor\u001b[39;00m i \u001b[38;5;129;01min\u001b[39;00m \u001b[38;5;28mrange\u001b[39m(\u001b[38;5;241m0\u001b[39m, \u001b[38;5;241m4\u001b[39m)}\n",
      "\u001b[0;31mTypeError\u001b[0m: run() missing 1 required positional argument: 'device_param'"
     ]
    }
   ],
   "source": [
    "\n",
    "probs = sim.run(\n",
    "    t_qiskit_circ=t_circ, \n",
    "    qubits_layout=qubits_layout, \n",
    "    psi0=np.array(run_config[\"psi0\"]), \n",
    "    shots=run_config[\"shots\"], \n",
    "    device_param=device_param_lookup,\n",
    "    nqubit=2)\n",
    "\n",
    "counts_ng = {format(i, 'b').zfill(2): probs[i] for i in range(0, 4)}"
   ]
  },
  {
   "cell_type": "code",
   "execution_count": null,
   "metadata": {},
   "outputs": [],
   "source": [
    "plot_histogram(counts_ng, bar_labels=False, legend=['Noisy Gates simulation'])"
   ]
  }
 ],
 "metadata": {
  "kernelspec": {
   "display_name": "quantum-gates",
   "language": "python",
   "name": "python3"
  },
  "language_info": {
   "codemirror_mode": {
    "name": "ipython",
    "version": 3
   },
   "file_extension": ".py",
   "mimetype": "text/x-python",
   "name": "python",
   "nbconvert_exporter": "python",
   "pygments_lexer": "ipython3",
   "version": "3.9.18"
  }
 },
 "nbformat": 4,
 "nbformat_minor": 2
}
