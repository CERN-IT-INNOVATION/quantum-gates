{
 "cells": [
  {
   "cell_type": "code",
   "execution_count": 1,
   "metadata": {},
   "outputs": [],
   "source": [
    "import numpy as np\n",
    "from quantum_gates.integrators import Integrator\n",
    "from quantum_gates.pulses import Pulse\n",
    "from quantum_gates.factories import DepolarizingFactory, SingleQubitGateFactory, XFactory, RelaxationFactory, ECRFactory\n",
    "\n",
    "np.set_printoptions(precision=4, suppress=True)"
   ]
  },
  {
   "cell_type": "code",
   "execution_count": 2,
   "metadata": {},
   "outputs": [],
   "source": [
    "# generate a single qubit gate\n",
    "\n",
    "# 1) need to generate a pulse object first\n",
    "pulse = lambda x: 1\n",
    "parametrization = lambda x: x\n",
    "\n",
    "constant_pulse = Pulse(\n",
    "               pulse=pulse,\n",
    "               parametrization=parametrization,\n",
    "               perform_checks=False\n",
    "               )\n",
    "\n",
    "# 2) then an integrator object\n",
    "integr = Integrator(constant_pulse)"
   ]
  },
  {
   "cell_type": "code",
   "execution_count": 3,
   "metadata": {},
   "outputs": [
    {
     "name": "stdout",
     "output_type": "stream",
     "text": [
      "[[ 0.9355+0.0564j -0.0379+0.3537j  0.0358-0.0532j -0.0406+0.0028j]\n",
      " [ 0.0395+0.3298j  0.9354-0.0574j -0.041 +0.0009j  0.0283-0.0567j]\n",
      " [-0.03  -0.0423j -0.0098+0.0065j  0.8987+0.0524j -0.0339-0.4057j]\n",
      " [-0.0142+0.0026j -0.0332-0.0404j  0.0367-0.4294j  0.8979-0.0493j]]\n",
      "\n",
      "[[ 0.9093+0.0391j  0.0204-0.3863j -0.0679+0.0325j -0.0095+0.0138j]\n",
      " [ 0.0328-0.4367j  0.902 +0.0811j -0.006 +0.0163j -0.0712+0.0294j]\n",
      " [ 0.0714+0.0217j -0.0011+0.0116j  0.9209-0.1027j  0.0309+0.372j ]\n",
      " [ 0.0012+0.0089j  0.0686+0.0254j  0.0136+0.3223j  0.9299-0.0194j]]\n",
      "\n",
      "[[-0.0058+0.0378j  1.017 -0.0104j]\n",
      " [ 0.9812+0.0101j  0.0058+0.0334j]]\n",
      "\n",
      "[[ 1.    +0.0059j -0.0001-0.0093j]\n",
      " [ 0.    +0.j      0.9999-0.0059j]]\n"
     ]
    }
   ],
   "source": [
    "# data for the ibm_brisbane\n",
    "\n",
    "T1 = [2.5526978064131973e-05, 0.00027756073822360805]\n",
    "T2 = [3.9127212343272855e-05, 0.00022703752860708963]\n",
    "p =  [0.000383139610222721, 0.0005459757307078682]\n",
    "\n",
    "rout = [0.022399999999999975, 0.02059999999999995]\n",
    "p_ecr =  np.array([[0. , 0.01167643], [0.01167643, 0.        ]])\n",
    "t_ecr = np.array([[0.0e+00, 6.6e-07], [6.6e-07, 0.0e+00]]),\n",
    "tm = [4e-06, 4e-06],\n",
    "dt = [5e-10]\n",
    "\n",
    "ecr = ECRFactory(integr)\n",
    "\n",
    "\n",
    "ecr_gate = ecr.construct(0, 0, 6.6e-07, 0.01167643, p[0], p[1], T1[0], T2[0], T1[1], T2[1])"
   ]
  },
  {
   "cell_type": "code",
   "execution_count": 5,
   "metadata": {},
   "outputs": [
    {
     "name": "stdout",
     "output_type": "stream",
     "text": [
      "[[ 0.1242+0.048j  -0.0941+0.025j   1.0883-0.0745j -0.0148+0.964j ]\n",
      " [-0.0823+0.0272j  0.1221+0.0344j  0.1595+0.8611j  1.0795-0.0846j]\n",
      " [ 0.8764+0.1305j  0.0681-1.003j  -0.1171+0.0263j  0.0169+0.0455j]\n",
      " [ 0.0908-1.0846j  0.8954+0.0046j  0.0137+0.0524j -0.116 +0.0342j]]\n",
      "\n",
      "[[0.0089 0.0047 0.595  0.4648]\n",
      " [0.0038 0.008  0.3835 0.5862]\n",
      " [0.3925 0.5053 0.0072 0.0012]\n",
      " [0.5923 0.4008 0.0015 0.0073]]\n"
     ]
    }
   ],
   "source": [
    "print(np.sqrt(2)*ecr_gate)\n",
    "print(\"\")\n",
    "print(np.abs(ecr_gate)**2)"
   ]
  },
  {
   "cell_type": "code",
   "execution_count": 7,
   "metadata": {},
   "outputs": [
    {
     "name": "stdout",
     "output_type": "stream",
     "text": [
      "[[ 0.9239+0.j     -0.    +0.3827j  0.    +0.j      0.    +0.j    ]\n",
      " [ 0.    +0.3827j  0.9239+0.j      0.    +0.j      0.    +0.j    ]\n",
      " [ 0.    +0.j      0.    +0.j      0.9239+0.j      0.    -0.3827j]\n",
      " [ 0.    +0.j      0.    +0.j     -0.    -0.3827j  0.9239+0.j    ]]\n",
      "\n",
      "[[ 0.9239+0.j      0.    -0.3827j  0.    +0.j      0.    +0.j    ]\n",
      " [-0.    -0.3827j  0.9239+0.j      0.    +0.j      0.    +0.j    ]\n",
      " [ 0.    +0.j      0.    +0.j      0.9239+0.j     -0.    +0.3827j]\n",
      " [ 0.    +0.j      0.    +0.j      0.    +0.3827j  0.9239+0.j    ]]\n",
      "\n",
      "[[0.-0.j 1.+0.j]\n",
      " [1.-0.j 0.-0.j]]\n",
      "\n",
      "[[1 0]\n",
      " [0 1]]\n",
      "\n",
      "[[0.-0.j 0.+0.j 1.+0.j 0.+0.j]\n",
      " [0.+0.j 0.-0.j 0.+0.j 1.+0.j]\n",
      " [1.-0.j 0.+0.j 0.-0.j 0.+0.j]\n",
      " [0.+0.j 1.-0.j 0.+0.j 0.-0.j]]\n",
      "\n",
      "The ECR gate is: \n",
      " [[ 0.    -0.j      0.    +0.j      0.7071+0.j     -0.    +0.7071j]\n",
      " [ 0.    +0.j      0.    -0.j      0.    +0.7071j  0.7071+0.j    ]\n",
      " [ 0.7071-0.j      0.    -0.7071j  0.    -0.j     -0.    +0.j    ]\n",
      " [-0.    -0.7071j  0.7071-0.j     -0.    +0.j      0.    -0.j    ]]\n"
     ]
    }
   ],
   "source": [
    "#RC gate \n",
    "\n",
    "theta1 = np.pi/4\n",
    "phi1 = np.pi\n",
    "\n",
    "theta2 = -np.pi/4\n",
    "phi2 = np.pi\n",
    "\n",
    "\n",
    "U1 = np.array(\n",
    "            [[np.cos(theta1/2), -1J*np.sin(theta1/2) * np.exp(-1J * phi1), 0, 0],\n",
    "             [-1J*np.sin(theta1/2) * np.exp(1J * phi1), np.cos(theta1/2), 0, 0],\n",
    "             [0, 0, np.cos(theta1/2), 1J*np.sin(theta1/2) * np.exp(-1J * phi1)],\n",
    "             [0, 0, 1J*np.sin(theta1/2) * np.exp(1J * phi1), np.cos(theta1/2)]])\n",
    "\n",
    "U2 = np.array(\n",
    "            [[np.cos(theta2/2), -1J*np.sin(theta2/2) * np.exp(-1J * phi2), 0, 0],\n",
    "             [-1J*np.sin(theta2/2) * np.exp(1J * phi2), np.cos(theta2/2), 0, 0],\n",
    "             [0, 0, np.cos(theta2/2), 1J*np.sin(theta2/2) * np.exp(-1J * phi2)],\n",
    "             [0, 0, 1J*np.sin(theta2/2) * np.exp(1J * phi2), np.cos(theta2/2)]])\n",
    "\n",
    "\n",
    "# x gate\n",
    "\n",
    "theta3 = np.pi\n",
    "phi3 = np.pi\n",
    "\n",
    "X = -1J* np.array(\n",
    "            [[np.cos(theta3/2), - 1J * np.sin(theta3/2) * np.exp(-1J * phi3)],\n",
    "             [- 1J * np.sin(theta3/2) * np.exp(1J * phi3), np.cos(theta3/2)]]\n",
    "        )\n",
    "\n",
    "\n",
    "# relazation\n",
    "\n",
    "I = np.array([[1,0],[0,1]])\n",
    "\n",
    "ECR = (U1 @ np.kron (X,I) @ U2 ) \n",
    "\n",
    "\n",
    "print(U1)\n",
    "print(\"\")\n",
    "print(U2)\n",
    "print(\"\")\n",
    "print(X)\n",
    "print(\"\")\n",
    "print(I)\n",
    "print(\"\")\n",
    "print(np.kron(X,I))\n",
    "print(\"\")\n",
    "print(\"The ECR gate is: \\n\",ECR )"
   ]
  },
  {
   "cell_type": "code",
   "execution_count": 10,
   "metadata": {},
   "outputs": [
    {
     "name": "stdout",
     "output_type": "stream",
     "text": [
      "[[ 0.    -0.j    ]\n",
      " [ 0.    +0.j    ]\n",
      " [ 0.7071-0.j    ]\n",
      " [-0.    -0.7071j]]\n"
     ]
    }
   ],
   "source": [
    "psi = np.array([[1,0,0,0]]).T\n",
    "\n",
    "print(ECR @ psi)\n",
    "\n"
   ]
  },
  {
   "cell_type": "code",
   "execution_count": null,
   "metadata": {},
   "outputs": [],
   "source": []
  }
 ],
 "metadata": {
  "kernelspec": {
   "display_name": "quantum-gates",
   "language": "python",
   "name": "python3"
  },
  "language_info": {
   "codemirror_mode": {
    "name": "ipython",
    "version": 3
   },
   "file_extension": ".py",
   "mimetype": "text/x-python",
   "name": "python",
   "nbconvert_exporter": "python",
   "pygments_lexer": "ipython3",
   "version": "3.9.19"
  }
 },
 "nbformat": 4,
 "nbformat_minor": 2
}
