{
 "cells": [
  {
   "cell_type": "code",
   "execution_count": 1,
   "metadata": {},
   "outputs": [],
   "source": [
    "import numpy as np\n",
    "from quantum_gates.integrators import Integrator\n",
    "from quantum_gates.pulses import Pulse\n",
    "from quantum_gates.factories import DepolarizingFactory, SingleQubitGateFactory, XFactory, RelaxationFactory, ECRFactory"
   ]
  },
  {
   "cell_type": "code",
   "execution_count": 2,
   "metadata": {},
   "outputs": [
    {
     "name": "stdout",
     "output_type": "stream",
     "text": [
      "[[ 0.9999798 +0.00308792j -0.00356271+0.00426375j]\n",
      " [ 0.00356271+0.00426375j  0.9999798 -0.00308792j]]\n"
     ]
    }
   ],
   "source": [
    "# generate the noisy gates for depolarization\n",
    "\n",
    "depo = DepolarizingFactory()\n",
    "Dt = 2*1e-9\n",
    "p = 0.001\n",
    "x = depo.construct(Dt, p)\n",
    "print(x)"
   ]
  },
  {
   "cell_type": "code",
   "execution_count": 4,
   "metadata": {},
   "outputs": [
    {
     "name": "stdout",
     "output_type": "stream",
     "text": [
      "[[ 9.99987997e-01-0.0048996j  -2.49796957e-05+0.00509825j]\n",
      " [ 0.00000000e+00+0.j          9.99937999e-01+0.00489935j]]\n"
     ]
    }
   ],
   "source": [
    "# generate the noisy gate for damping of phase and amplitude\n",
    "\n",
    "relax =  RelaxationFactory()\n",
    "Dt =  1e-9\n",
    "T1 =  1e-5\n",
    "T2 =  1e-5\n",
    "y = relax.construct(Dt, T1, T2)\n",
    "print(y)"
   ]
  },
  {
   "cell_type": "code",
   "execution_count": 4,
   "metadata": {},
   "outputs": [
    {
     "name": "stdout",
     "output_type": "stream",
     "text": [
      "[[ 0.00256059+0.00821865j  0.01267429-0.99421765j]\n",
      " [-0.01277339-1.0054162j  -0.00272099-0.00822007j]]\n"
     ]
    }
   ],
   "source": [
    "# generate a single qubit gate\n",
    "\n",
    "# 1) need to generate a pulse object first\n",
    "pulse = lambda x: 1\n",
    "parametrization = lambda x: x\n",
    "\n",
    "constant_pulse = Pulse(\n",
    "               pulse=pulse,\n",
    "               parametrization=parametrization,\n",
    "               perform_checks=False\n",
    "               )\n",
    "\n",
    "# 2) then an integrator object\n",
    "integr = Integrator(constant_pulse)\n",
    "\n",
    "\n",
    "# 3) generate the qate\n",
    "single = SingleQubitGateFactory(integr)\n",
    "theta = np.pi\n",
    "phi = 0.\n",
    "p = 0.0001\n",
    "T1 =  1e-4\n",
    "T2 =  1e-4\n",
    "\n",
    "z = single.construct(theta, phi, p, T1, T2)\n",
    "print(z)"
   ]
  },
  {
   "cell_type": "code",
   "execution_count": 8,
   "metadata": {},
   "outputs": [
    {
     "data": {
      "text/plain": [
       "array([[ 0.00265733-0.00140549j, -0.00324118-1.00257003j],\n",
       "       [ 0.0032341 -0.99722326j,  0.00993459+0.00140583j]])"
      ]
     },
     "execution_count": 8,
     "metadata": {},
     "output_type": "execute_result"
    }
   ],
   "source": [
    "# generate a X gate\n",
    "\n",
    "xgate = XFactory(integr)\n",
    "\n",
    "xgate.construct(phi, p, T1, T2)"
   ]
  },
  {
   "cell_type": "code",
   "execution_count": 5,
   "metadata": {},
   "outputs": [],
   "source": [
    "ecr = ECRFactory(integr)\n"
   ]
  },
  {
   "cell_type": "code",
   "execution_count": null,
   "metadata": {},
   "outputs": [],
   "source": []
  }
 ],
 "metadata": {
  "kernelspec": {
   "display_name": "quantum-gates",
   "language": "python",
   "name": "python3"
  },
  "language_info": {
   "codemirror_mode": {
    "name": "ipython",
    "version": 3
   },
   "file_extension": ".py",
   "mimetype": "text/x-python",
   "name": "python",
   "nbconvert_exporter": "python",
   "pygments_lexer": "ipython3",
   "version": "3.9.19"
  }
 },
 "nbformat": 4,
 "nbformat_minor": 2
}
