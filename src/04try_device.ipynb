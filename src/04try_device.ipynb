{
 "cells": [
  {
   "cell_type": "code",
   "execution_count": 25,
   "metadata": {},
   "outputs": [],
   "source": [
    "# Standard libraries\n",
    "import numpy as np\n",
    "import json\n",
    "from datetime import datetime\n",
    "\n",
    "# Qiskit\n",
    "from qiskit import QuantumCircuit, transpile\n",
    "from qiskit.visualization import plot_histogram\n",
    "from qiskit_ibm_provider import IBMProvider\n",
    "from qiskit.circuit.random import random_circuit\n",
    "\n",
    "# Own library\n",
    "from quantum_gates.simulators import MrAndersonSimulator\n",
    "from quantum_gates.gates import standard_gates\n",
    "from quantum_gates.circuits import EfficientCircuit, AlternativeCircuit, Circuit\n",
    "from quantum_gates.utilities import DeviceParameters\n",
    "from quantum_gates.utilities import setup_backend\n",
    "\n",
    "\n",
    "#np.set_printoptions(precision=4, suppress=True)"
   ]
  },
  {
   "cell_type": "code",
   "execution_count": 26,
   "metadata": {},
   "outputs": [],
   "source": [
    "IBM_TOKEN = \"token\""
   ]
  },
  {
   "cell_type": "code",
   "execution_count": 27,
   "metadata": {},
   "outputs": [],
   "source": [
    "provider = IBMProvider(token=IBM_TOKEN)\n",
    "backend = provider.get_backend('ibm_brisbane')\n",
    "prop = backend.properties()"
   ]
  },
  {
   "cell_type": "code",
   "execution_count": 28,
   "metadata": {},
   "outputs": [],
   "source": [
    "N_QUBIT = 6\n",
    "ecr = prop.gate_property('ecr')\n",
    "\n",
    "p_ecr = np.zeros((N_QUBIT, N_QUBIT))\n",
    "t_ecr = np.zeros((N_QUBIT, N_QUBIT))\n",
    "\n",
    "for x in ecr:\n",
    "    i = list(x)[0]\n",
    "    j = list(x)[1]\n",
    "    if i > N_QUBIT-1 or j > N_QUBIT-1:\n",
    "        continue\n",
    "    p_ecr[i,j] = ecr[i,j]['gate_error'][0]\n",
    "    t_ecr[i,j] = ecr[i,j]['gate_length'][0]\n",
    "\n",
    "\n",
    "\n",
    "    \n",
    "\n"
   ]
  },
  {
   "cell_type": "code",
   "execution_count": 29,
   "metadata": {},
   "outputs": [
    {
     "data": {
      "text/plain": [
       "array([[0.0e+00, 0.0e+00, 0.0e+00, 0.0e+00, 0.0e+00, 0.0e+00],\n",
       "       [6.6e-07, 0.0e+00, 0.0e+00, 0.0e+00, 0.0e+00, 0.0e+00],\n",
       "       [0.0e+00, 6.6e-07, 0.0e+00, 0.0e+00, 0.0e+00, 0.0e+00],\n",
       "       [0.0e+00, 0.0e+00, 6.6e-07, 0.0e+00, 0.0e+00, 0.0e+00],\n",
       "       [0.0e+00, 0.0e+00, 0.0e+00, 6.6e-07, 0.0e+00, 6.6e-07],\n",
       "       [0.0e+00, 0.0e+00, 0.0e+00, 0.0e+00, 0.0e+00, 0.0e+00]])"
      ]
     },
     "execution_count": 29,
     "metadata": {},
     "output_type": "execute_result"
    }
   ],
   "source": [
    "t_ecr"
   ]
  },
  {
   "cell_type": "code",
   "execution_count": null,
   "metadata": {},
   "outputs": [],
   "source": []
  }
 ],
 "metadata": {
  "kernelspec": {
   "display_name": "Quantum1",
   "language": "python",
   "name": "python3"
  },
  "language_info": {
   "codemirror_mode": {
    "name": "ipython",
    "version": 3
   },
   "file_extension": ".py",
   "mimetype": "text/x-python",
   "name": "python",
   "nbconvert_exporter": "python",
   "pygments_lexer": "ipython3",
   "version": "3.9.19"
  }
 },
 "nbformat": 4,
 "nbformat_minor": 2
}
