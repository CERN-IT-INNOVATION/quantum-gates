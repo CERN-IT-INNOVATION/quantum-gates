{
 "cells": [
  {
   "cell_type": "code",
   "execution_count": 11,
   "metadata": {},
   "outputs": [
    {
     "name": "stderr",
     "output_type": "stream",
     "text": [
      "/var/folders/8r/rk87_q2x6q73135zrfmsjxgw0000gn/T/ipykernel_35902/1229632253.py:14: DeprecationWarning: qiskit.providers.models is deprecated since Qiskit 1.2 and will be removed in Qiskit 2.0. With the removal of Qobj, there is no need for these schema-conformant objects. If you still need to use them, it could be because you are using a BackendV1, which is also deprecated in favor of BackendV2.\n",
      "  from qiskit.providers.models import BackendProperties, BackendConfiguration\n"
     ]
    }
   ],
   "source": [
    "# Standard libraries\n",
    "import numpy as np\n",
    "import json\n",
    "from datetime import datetime\n",
    "\n",
    "# Qiskit\n",
    "from qiskit import QuantumCircuit, transpile\n",
    "from qiskit.visualization import plot_histogram\n",
    "from qiskit_ibm_provider import IBMProvider\n",
    "from qiskit.circuit.random import random_circuit\n",
    "from qiskit.providers import BackendV2 as Backend\n",
    "from qiskit_ibm_runtime.fake_provider.fake_backend import FakeBackendV2 as FakeBackend\n",
    "from qiskit_ibm_runtime.fake_provider import FakeProviderForBackendV2\n",
    "from qiskit.providers.models import BackendProperties, BackendConfiguration\n",
    "from qiskit_ibm_runtime import QiskitRuntimeService\n",
    "\n",
    "# Own library\n",
    "from quantum_gates.simulators import MrAndersonSimulator\n",
    "from quantum_gates.gates import standard_gates\n",
    "from quantum_gates.circuits import EfficientCircuit, AlternativeCircuit, Circuit\n",
    "from quantum_gates.utilities import DeviceParameters\n",
    "from quantum_gates.utilities import setup_backend\n",
    "\n",
    "\n",
    "#np.set_printoptions(precision=4, suppress=True)"
   ]
  },
  {
   "cell_type": "code",
   "execution_count": 12,
   "metadata": {},
   "outputs": [],
   "source": [
    "IBM_TOKEN = \""\n",
    "provider = QiskitRuntimeService(channel= 'ibm_quantum', token=IBM_TOKEN)"
   ]
  },
  {
   "cell_type": "code",
   "execution_count": 13,
   "metadata": {},
   "outputs": [],
   "source": [
    "backend = provider.backend('ibm_kyoto')\n",
    "prop = backend.properties()"
   ]
  },
  {
   "cell_type": "code",
   "execution_count": 15,
   "metadata": {},
   "outputs": [
    {
     "data": {
      "text/plain": [
       "qiskit_ibm_runtime.models.backend_properties.BackendProperties"
      ]
     },
     "execution_count": 15,
     "metadata": {},
     "output_type": "execute_result"
    }
   ],
   "source": [
    "type(prop)"
   ]
  },
  {
   "cell_type": "code",
   "execution_count": 6,
   "metadata": {},
   "outputs": [],
   "source": [
    "config = backend.configuration()\n",
    "base = config.basis_gates"
   ]
  },
  {
   "cell_type": "code",
   "execution_count": 28,
   "metadata": {},
   "outputs": [],
   "source": [
    "N_QUBIT = 6\n",
    "ecr = prop.gate_property('ecr')\n",
    "\n",
    "p_ecr = np.zeros((N_QUBIT, N_QUBIT))\n",
    "t_ecr = np.zeros((N_QUBIT, N_QUBIT))\n",
    "\n",
    "for x in ecr:\n",
    "    i = list(x)[0]\n",
    "    j = list(x)[1]\n",
    "    if i > N_QUBIT-1 or j > N_QUBIT-1:\n",
    "        continue\n",
    "    p_ecr[i,j] = ecr[i,j]['gate_error'][0]\n",
    "    t_ecr[i,j] = ecr[i,j]['gate_length'][0]\n",
    "\n"
   ]
  },
  {
   "cell_type": "code",
   "execution_count": 2,
   "metadata": {},
   "outputs": [
    {
     "name": "stdout",
     "output_type": "stream",
     "text": [
      "9\n"
     ]
    }
   ],
   "source": [
    "l = [4,6,2,1,9,4,2]\n",
    "\n",
    "print(np.max(l))"
   ]
  },
  {
   "cell_type": "markdown",
   "metadata": {},
   "source": [
    "### Update to qiskit 1.2"
   ]
  },
  {
   "cell_type": "code",
   "execution_count": 2,
   "metadata": {},
   "outputs": [],
   "source": [
    "fake_provider = FakeProviderForBackendV2()\n",
    "fake_backend = fake_provider.backend('fake_brisbane')"
   ]
  },
  {
   "cell_type": "code",
   "execution_count": 4,
   "metadata": {},
   "outputs": [],
   "source": [
    "fake_backend._set_props_dict_from_json()"
   ]
  },
  {
   "cell_type": "code",
   "execution_count": 6,
   "metadata": {},
   "outputs": [
    {
     "data": {
      "text/plain": [
       "dict"
      ]
     },
     "execution_count": 6,
     "metadata": {},
     "output_type": "execute_result"
    }
   ],
   "source": [
    "type(fake_backend._props_dict)"
   ]
  },
  {
   "cell_type": "code",
   "execution_count": 9,
   "metadata": {},
   "outputs": [
    {
     "name": "stderr",
     "output_type": "stream",
     "text": [
      "/var/folders/8r/rk87_q2x6q73135zrfmsjxgw0000gn/T/ipykernel_35902/2040561488.py:1: DeprecationWarning: The class ``qiskit.providers.models.backendproperties.BackendProperties`` is deprecated as of qiskit 1.2. It will be removed in the 2.0 release. The models in ``qiskit.providers.models`` and related objects are part of the deprecated `BackendV1` workflow,  and no longer necessary for `BackendV2`. If a user workflow requires these representations it likely relies on deprecated functionality and should be updated to use `BackendV2`.\n",
      "  prop = BackendProperties.from_dict(fake_backend._props_dict)\n"
     ]
    }
   ],
   "source": [
    "\n",
    "prop = BackendProperties.from_dict(fake_backend._props_dict)\n",
    "#config = BackendConfiguration.from_dict(backend._conf_dict)"
   ]
  },
  {
   "cell_type": "code",
   "execution_count": 16,
   "metadata": {},
   "outputs": [
    {
     "data": {
      "text/plain": [
       "qiskit_ibm_runtime.models.backend_properties.BackendProperties"
      ]
     },
     "execution_count": 16,
     "metadata": {},
     "output_type": "execute_result"
    }
   ],
   "source": [
    "type(prop)"
   ]
  }
 ],
 "metadata": {
  "kernelspec": {
   "display_name": "Quantum1",
   "language": "python",
   "name": "python3"
  },
  "language_info": {
   "codemirror_mode": {
    "name": "ipython",
    "version": 3
   },
   "file_extension": ".py",
   "mimetype": "text/x-python",
   "name": "python",
   "nbconvert_exporter": "python",
   "pygments_lexer": "ipython3",
   "version": "3.9.19"
  }
 },
 "nbformat": 4,
 "nbformat_minor": 2
}
