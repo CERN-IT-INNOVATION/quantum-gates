{
 "cells": [
  {
   "cell_type": "code",
   "execution_count": 1,
   "metadata": {},
   "outputs": [],
   "source": [
    "from quantum_gates._simulation.circuit import Circuit, EfficientCircuit, AlternativeCircuit\n",
    "from quantum_gates.gates import standard_gates\n",
    "from quantum_gates.backends import EfficientBackend\n",
    "import numpy as np"
   ]
  },
  {
   "cell_type": "code",
   "execution_count": 2,
   "metadata": {},
   "outputs": [],
   "source": [
    "T1 = [2.5526978064131973e-05, 0.00027756073822360805]\n",
    "T2 = [3.9127212343272855e-05, 0.00022703752860708963]\n",
    "p =  [0.000383139610222721, 0.0005459757307078682]\n",
    "\n",
    "rout = [0.022399999999999975, 0.02059999999999995]\n",
    "p_ecr =  np.array([[0. , 0.01167643], [0.01167643, 0.        ]])\n",
    "t_ecr = np.array([[0.0e+00, 6.6e-07], [6.6e-07, 0.0e+00]]),\n",
    "tm = [4e-06, 4e-06],\n",
    "dt = [5e-10]"
   ]
  },
  {
   "cell_type": "code",
   "execution_count": 3,
   "metadata": {},
   "outputs": [
    {
     "name": "stdout",
     "output_type": "stream",
     "text": [
      "i<k\n",
      "Probs:  [0.41 0.   0.01 0.64]\n"
     ]
    }
   ],
   "source": [
    "# Create the transpiled circuit followinf the IBM_brisbane quantum computer set up for the first Bell state\n",
    "\n",
    "#circuit = Circuit(nqubit=2, depth=3, gates=standard_gates)\n",
    "circuit = EfficientCircuit(nqubit=2, depth=3, gates=standard_gates)\n",
    "#circuit = AlternativeCircuit(nqubit=2, gates= standard_gates,BackendClass= EfficientBackend)\n",
    "\n",
    "\n",
    "\n",
    "circuit.Rz(i = 0, theta= -np.pi)\n",
    "circuit.Rz(i = 1, theta= -np.pi/2)\n",
    "\n",
    "circuit.SX(i = 0, p = p[0], T1 = T1[0], T2 = T2[0]) \n",
    "circuit.SX(i = 1, p = p[1], T1 = T1[1], T2 = T2[1]) \n",
    "\n",
    "circuit.Rz(i = 1, theta= -np.pi)\n",
    "circuit.ECR(i = 1, k = 0, t_ecr = 6.6e-07, p_i_k= 0.01167643, p_i = p[1] , p_k = p[0], T1_ctr= T1[1], T2_ctr= T2[1],  T1_trg= T1[0], T2_trg= T2[0])\n",
    "\n",
    "\n",
    "circuit.Rz(i = 0, theta= -np.pi/2)\n",
    "circuit.Rz(i = 1, theta= -np.pi/2)\n",
    "\n",
    "circuit.SX(i = 0, p = p[0], T1 = T1[0], T2 = T2[0]) \n",
    "circuit.SX(i = 1, p = p[1], T1 = T1[1], T2 = T2[1])\n",
    "\n",
    "circuit.Rz(i = 0, theta= np.pi)\n",
    "circuit.Rz(i = 1, theta= np.pi/2)\n",
    "\n",
    "\n",
    "\n",
    "\n",
    "#circuit.X(i = 0, p = 0.01, T1 = 1e-9, T2 = 1e-9) \n",
    "#circuit.SX(i = 1, p = 0.01, T1 = 1e-9, T2 = 1e-9) \n",
    "\n",
    "#circuit.display()\n",
    "\n",
    "np.set_printoptions(precision=2, suppress=True)\n",
    "psi1 = circuit.statevector(psi0=np.array([1, 0, 0, 0]))\n",
    "print(\"Probs: \", np.abs(psi1)**2)"
   ]
  },
  {
   "cell_type": "code",
   "execution_count": null,
   "metadata": {},
   "outputs": [],
   "source": []
  },
  {
   "cell_type": "code",
   "execution_count": null,
   "metadata": {},
   "outputs": [],
   "source": []
  }
 ],
 "metadata": {
  "kernelspec": {
   "display_name": "quantum-gates",
   "language": "python",
   "name": "python3"
  },
  "language_info": {
   "codemirror_mode": {
    "name": "ipython",
    "version": 3
   },
   "file_extension": ".py",
   "mimetype": "text/x-python",
   "name": "python",
   "nbconvert_exporter": "python",
   "pygments_lexer": "ipython3",
   "version": "3.9.19"
  }
 },
 "nbformat": 4,
 "nbformat_minor": 2
}
