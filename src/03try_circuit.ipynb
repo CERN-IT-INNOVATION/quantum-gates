{
 "cells": [
  {
   "cell_type": "code",
   "execution_count": 20,
   "metadata": {},
   "outputs": [],
   "source": [
    "from quantum_gates._simulation.circuit import Circuit\n",
    "from quantum_gates.gates import standard_gates\n",
    "import numpy as np"
   ]
  },
  {
   "cell_type": "code",
   "execution_count": 21,
   "metadata": {},
   "outputs": [
    {
     "name": "stdout",
     "output_type": "stream",
     "text": [
      "[[array([[0.04849112+0.00897892j, 0.02239445+0.0555723j ],\n",
      "       [0.00897956-0.04849011j, 0.05557218-0.02239323j]])], [array([[ 0.89943788+0.2297488j , -0.75661849-0.78098685j],\n",
      "       [ 0.09516517-0.37255936j, -0.32349541+0.31340156j]])]]\n"
     ]
    }
   ],
   "source": [
    "circuit = Circuit(nqubit=2, depth=1, gates=standard_gates)\n",
    "\n",
    "\n",
    "circuit.X(i = 0, p = 0.01, T1 = 1e-9, T2 = 1e-9) \n",
    "circuit.SX(i = 1, p = 0.01, T1 = 1e-9, T2 = 1e-9) \n",
    "\n",
    "circuit.display()\n",
    "\n"
   ]
  },
  {
   "cell_type": "code",
   "execution_count": 23,
   "metadata": {},
   "outputs": [
    {
     "name": "stdout",
     "output_type": "stream",
     "text": [
      "[(0.04155185440280459+0.019216759488256095j)\n",
      " (0.007959847119792265-0.017211340134969867j)\n",
      " (0.01921709928464453-0.04155080390153248j)\n",
      " (-0.017210905003045066-0.007959987867956732j)]\n"
     ]
    }
   ],
   "source": [
    "ps1 = circuit.statevector(psi0=np.array([1, 0, 0, 0]))\n",
    "print(ps1)"
   ]
  }
 ],
 "metadata": {
  "kernelspec": {
   "display_name": "quantum-gates",
   "language": "python",
   "name": "python3"
  },
  "language_info": {
   "codemirror_mode": {
    "name": "ipython",
    "version": 3
   },
   "file_extension": ".py",
   "mimetype": "text/x-python",
   "name": "python",
   "nbconvert_exporter": "python",
   "pygments_lexer": "ipython3",
   "version": "3.9.18"
  }
 },
 "nbformat": 4,
 "nbformat_minor": 2
}
