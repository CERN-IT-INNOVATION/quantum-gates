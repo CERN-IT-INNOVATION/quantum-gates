{
 "cells": [
  {
   "cell_type": "code",
   "execution_count": 1,
   "metadata": {},
   "outputs": [],
   "source": [
    "# Standard libraries\n",
    "import numpy as np\n",
    "import json\n",
    "from datetime import datetime\n",
    "\n",
    "# Qiskit\n",
    "from qiskit import QuantumCircuit, transpile\n",
    "from qiskit.visualization import plot_histogram\n",
    "from qiskit_ibm_provider import IBMProvider\n",
    "\n",
    "# Own library\n",
    "from quantum_gates.simulators import MrAndersonSimulator\n",
    "from quantum_gates.gates import standard_gates\n",
    "from quantum_gates.circuits import EfficientCircuit, AlternativeCircuit, Circuit\n",
    "from quantum_gates.utilities import DeviceParameters\n",
    "from quantum_gates.utilities import setup_backend\n",
    "\n",
    "\n"
   ]
  },
  {
   "cell_type": "code",
   "execution_count": 2,
   "metadata": {},
   "outputs": [],
   "source": [
    "\n",
    "IBM_TOKEN = \"content\""
   ]
  },
  {
   "cell_type": "code",
   "execution_count": 3,
   "metadata": {},
   "outputs": [],
   "source": [
    "provider = IBMProvider(token=IBM_TOKEN)\n",
    "backend = provider.get_backend('ibm_brisbane')\n",
    "prop = backend.properties()"
   ]
  },
  {
   "cell_type": "code",
   "execution_count": 5,
   "metadata": {},
   "outputs": [
    {
     "data": {
      "image/png": "[encoded data removed]",
      "text/plain": [
       "<Figure size 538.128x284.278 with 1 Axes>"
      ]
     },
     "execution_count": 5,
     "metadata": {},
     "output_type": "execute_result"
    }
   ],
   "source": [
    "N_QUBIT = 2\n",
    "N_BIT = 2\n",
    "\n",
    "circ = QuantumCircuit(N_QUBIT,N_BIT)\n",
    "\n",
    "\"\"\"\n",
    "circ.rz(np.pi/2, 1)\n",
    "circ.rz(-np.pi/2, 0)\n",
    "\n",
    "circ.sx(0)\n",
    "circ.sx(1)\n",
    "\n",
    "circ.rz(np.pi/2, 0)\n",
    "circ.rz(-np.pi/2, 1)\n",
    "\n",
    "circ.ecr(1,0)\n",
    "\n",
    "\n",
    "circ.rz(np.pi/2,1)\n",
    "circ.rz(np.pi/2,0)\n",
    "\n",
    "circ.sx(0)\n",
    "circ.sx(1)\n",
    "\n",
    "circ.rz(np.pi/2,1)\n",
    "circ.rz(np.pi/2,0)\n",
    "\"\"\"\n",
    "\n",
    "#circ.ecr(0,1)\n",
    "\n",
    "circ.h(0)\n",
    "circ.cx(0,1)\n",
    "\n",
    "\n",
    "\n",
    "\n",
    "\n",
    "\n",
    "\n",
    "circ.barrier(range(N_QUBIT))\n",
    "circ.measure(range(N_QUBIT),range(N_QUBIT))\n",
    "circ.draw('mpl')"
   ]
  },
  {
   "cell_type": "code",
   "execution_count": 6,
   "metadata": {},
   "outputs": [
    {
     "name": "stdout",
     "output_type": "stream",
     "text": [
      "[0, 1]\n"
     ]
    }
   ],
   "source": [
    "config = {\n",
    "    \"backend\": {\n",
    "        \"hub\": \"ibm-q\",\n",
    "        \"group\": \"open\",\n",
    "        \"project\": \"main\",\n",
    "        \"device_name\": \"ibmq_manila\"\n",
    "    },\n",
    "    \"run\": {\n",
    "        \"shots\": 1000,\n",
    "        \"qubits_layout\": [0,1,2,3],\n",
    "        #\"psi0\": [1, 0, 0, 0]\n",
    "        \"psi0\": [1, 0, 0, 0]\n",
    "    }\n",
    "}\n",
    "\n",
    "\n",
    "\n",
    "run_config = config[\"run\"]\n",
    "#qubits_layout = run_config[\"qubits_layout\"]\n",
    "qubits_layout = list(range(N_QUBIT))\n",
    "print(qubits_layout)\n",
    "\n",
    "device_param = DeviceParameters(qubits_layout)\n",
    "device_param.load_from_backend(backend)\n",
    "device_param_lookup = device_param.__dict__()"
   ]
  },
  {
   "cell_type": "code",
   "execution_count": 7,
   "metadata": {},
   "outputs": [],
   "source": [
    "sim = MrAndersonSimulator(gates=standard_gates, CircuitClass=EfficientCircuit)\n",
    "\n",
    "t_circ = transpile(\n",
    "    circ,\n",
    "    backend,\n",
    "    scheduling_method='asap',\n",
    "    initial_layout=qubits_layout,\n",
    "    seed_transpiler=42\n",
    ")\n",
    "\n",
    "#t_circ.draw(output='mpl')"
   ]
  },
  {
   "cell_type": "code",
   "execution_count": 8,
   "metadata": {},
   "outputs": [
    {
     "name": "stdout",
     "output_type": "stream",
     "text": [
      "Warning: The transpilation of the circuit has to be done by the user. \n",
      "We only support a linear connectivity at the moment.\n"
     ]
    },
    {
     "ename": "AttributeError",
     "evalue": "'EfficientCircuit' object has no attribute 'ECR_inv'",
     "output_type": "error",
     "traceback": [
      "\u001b[0;31m---------------------------------------------------------------------------\u001b[0m",
      "\u001b[0;31mAttributeError\u001b[0m                            Traceback (most recent call last)",
      "Cell \u001b[0;32mIn[8], line 3\u001b[0m\n\u001b[1;32m      1\u001b[0m psi0 \u001b[38;5;241m=\u001b[39m [\u001b[38;5;241m1\u001b[39m] \u001b[38;5;241m+\u001b[39m [\u001b[38;5;241m0\u001b[39m] \u001b[38;5;241m*\u001b[39m (\u001b[38;5;241m2\u001b[39m\u001b[38;5;241m*\u001b[39m\u001b[38;5;241m*\u001b[39mN_QUBIT\u001b[38;5;241m-\u001b[39m\u001b[38;5;241m1\u001b[39m)\n\u001b[0;32m----> 3\u001b[0m probs \u001b[38;5;241m=\u001b[39m \u001b[43msim\u001b[49m\u001b[38;5;241;43m.\u001b[39;49m\u001b[43mrun\u001b[49m\u001b[43m(\u001b[49m\n\u001b[1;32m      4\u001b[0m \u001b[43m    \u001b[49m\u001b[43mt_qiskit_circ\u001b[49m\u001b[38;5;241;43m=\u001b[39;49m\u001b[43mt_circ\u001b[49m\u001b[43m,\u001b[49m\u001b[43m \u001b[49m\n\u001b[1;32m      5\u001b[0m \u001b[43m    \u001b[49m\u001b[43mqubits_layout\u001b[49m\u001b[38;5;241;43m=\u001b[39;49m\u001b[43mqubits_layout\u001b[49m\u001b[43m,\u001b[49m\u001b[43m \u001b[49m\n\u001b[1;32m      6\u001b[0m \u001b[43m    \u001b[49m\u001b[43mpsi0\u001b[49m\u001b[38;5;241;43m=\u001b[39;49m\u001b[43mnp\u001b[49m\u001b[38;5;241;43m.\u001b[39;49m\u001b[43marray\u001b[49m\u001b[43m(\u001b[49m\u001b[43mpsi0\u001b[49m\u001b[43m)\u001b[49m\u001b[43m,\u001b[49m\u001b[43m \u001b[49m\n\u001b[1;32m      7\u001b[0m \u001b[43m    \u001b[49m\u001b[43mshots\u001b[49m\u001b[38;5;241;43m=\u001b[39;49m\u001b[43mrun_config\u001b[49m\u001b[43m[\u001b[49m\u001b[38;5;124;43m\"\u001b[39;49m\u001b[38;5;124;43mshots\u001b[39;49m\u001b[38;5;124;43m\"\u001b[39;49m\u001b[43m]\u001b[49m\u001b[43m,\u001b[49m\u001b[43m \u001b[49m\n\u001b[1;32m      8\u001b[0m \u001b[43m    \u001b[49m\u001b[43mdevice_param\u001b[49m\u001b[38;5;241;43m=\u001b[39;49m\u001b[43mdevice_param_lookup\u001b[49m\u001b[43m,\u001b[49m\n\u001b[1;32m      9\u001b[0m \u001b[43m    \u001b[49m\u001b[43mnqubit\u001b[49m\u001b[38;5;241;43m=\u001b[39;49m\u001b[43mN_QUBIT\u001b[49m\u001b[43m)\u001b[49m\n\u001b[1;32m     11\u001b[0m counts_ng \u001b[38;5;241m=\u001b[39m {\u001b[38;5;28mformat\u001b[39m(i, \u001b[38;5;124m'\u001b[39m\u001b[38;5;124mb\u001b[39m\u001b[38;5;124m'\u001b[39m)\u001b[38;5;241m.\u001b[39mzfill(\u001b[38;5;241m2\u001b[39m): probs[i] \u001b[38;5;28;01mfor\u001b[39;00m i \u001b[38;5;129;01min\u001b[39;00m \u001b[38;5;28mrange\u001b[39m(\u001b[38;5;241m0\u001b[39m, \u001b[38;5;241m2\u001b[39m\u001b[38;5;241m*\u001b[39m\u001b[38;5;241m*\u001b[39mN_QUBIT)}\n\u001b[1;32m     13\u001b[0m plot_histogram(counts_ng, bar_labels\u001b[38;5;241m=\u001b[39m\u001b[38;5;28;01mFalse\u001b[39;00m, legend\u001b[38;5;241m=\u001b[39m[\u001b[38;5;124m'\u001b[39m\u001b[38;5;124mNoisy Gates simulation\u001b[39m\u001b[38;5;124m'\u001b[39m])\n",
      "File \u001b[0;32m~/Desktop/Internship/NoisyGates/quantum-gates/src/quantum_gates/_simulation/simulator.py:91\u001b[0m, in \u001b[0;36mMrAndersonSimulator.run\u001b[0;34m(self, t_qiskit_circ, qubits_layout, psi0, shots, device_param, nqubit)\u001b[0m\n\u001b[1;32m     88\u001b[0m n_rz, swap_detector, data \u001b[38;5;241m=\u001b[39m \u001b[38;5;28mself\u001b[39m\u001b[38;5;241m.\u001b[39m_preprocess_circuit(t_qiskit_circ, qubits_layout, nqubit)\n\u001b[1;32m     90\u001b[0m \u001b[38;5;66;03m# Read data and apply Noisy Quantum gates for many shots to get preliminary probabilities\u001b[39;00m\n\u001b[0;32m---> 91\u001b[0m probs \u001b[38;5;241m=\u001b[39m \u001b[38;5;28;43mself\u001b[39;49m\u001b[38;5;241;43m.\u001b[39;49m\u001b[43m_perform_simulation\u001b[49m\u001b[43m(\u001b[49m\u001b[43mshots\u001b[49m\u001b[43m,\u001b[49m\u001b[43m \u001b[49m\u001b[43mdata\u001b[49m\u001b[43m,\u001b[49m\u001b[43m \u001b[49m\u001b[43mn_rz\u001b[49m\u001b[43m,\u001b[49m\u001b[43m \u001b[49m\u001b[43mnqubit\u001b[49m\u001b[43m,\u001b[49m\u001b[43m \u001b[49m\u001b[43mdevice_param\u001b[49m\u001b[43m,\u001b[49m\u001b[43m \u001b[49m\u001b[43mpsi0\u001b[49m\u001b[43m)\u001b[49m\n\u001b[1;32m     93\u001b[0m \u001b[38;5;66;03m# Reorder the probabilities to take the swaps into account\u001b[39;00m\n\u001b[1;32m     94\u001b[0m reordered_probs \u001b[38;5;241m=\u001b[39m \u001b[38;5;28mself\u001b[39m\u001b[38;5;241m.\u001b[39m_fix_probabilities(probs, swap_detector, nqubit)\n",
      "File \u001b[0;32m~/Desktop/Internship/NoisyGates/quantum-gates/src/quantum_gates/_simulation/simulator.py:236\u001b[0m, in \u001b[0;36mMrAndersonSimulator._perform_simulation\u001b[0;34m(self, shots, data, n_rz, nqubit, device_param, psi0)\u001b[0m\n\u001b[1;32m    233\u001b[0m \u001b[38;5;28;01melse\u001b[39;00m:\n\u001b[1;32m    234\u001b[0m     \u001b[38;5;28;01mfor\u001b[39;00m arg \u001b[38;5;129;01min\u001b[39;00m arg_list:\n\u001b[1;32m    235\u001b[0m         \u001b[38;5;66;03m# Compute\u001b[39;00m\n\u001b[0;32m--> 236\u001b[0m         shot_result \u001b[38;5;241m=\u001b[39m \u001b[43m_single_shot\u001b[49m\u001b[43m(\u001b[49m\u001b[43marg\u001b[49m\u001b[43m)\u001b[49m\n\u001b[1;32m    238\u001b[0m         \u001b[38;5;66;03m# Add shot\u001b[39;00m\n\u001b[1;32m    239\u001b[0m         r_sum \u001b[38;5;241m+\u001b[39m\u001b[38;5;241m=\u001b[39m shot_result\n",
      "File \u001b[0;32m~/Desktop/Internship/NoisyGates/quantum-gates/src/quantum_gates/_simulation/simulator.py:359\u001b[0m, in \u001b[0;36m_single_shot\u001b[0;34m(args)\u001b[0m\n\u001b[1;32m    356\u001b[0m psi0 \u001b[38;5;241m=\u001b[39m args[\u001b[38;5;124m\"\u001b[39m\u001b[38;5;124mpsi0\u001b[39m\u001b[38;5;124m\"\u001b[39m]\n\u001b[1;32m    358\u001b[0m \u001b[38;5;66;03m# Apply gates on the circuit.\u001b[39;00m\n\u001b[0;32m--> 359\u001b[0m \u001b[43m_apply_gates_on_circuit\u001b[49m\u001b[43m(\u001b[49m\u001b[43mdata\u001b[49m\u001b[43m,\u001b[49m\u001b[43m \u001b[49m\u001b[43mcirc\u001b[49m\u001b[43m,\u001b[49m\u001b[43m \u001b[49m\u001b[43mdevice_param\u001b[49m\u001b[43m)\u001b[49m\n\u001b[1;32m    361\u001b[0m \u001b[38;5;66;03m# Propagate psi with  the state vector method\u001b[39;00m\n\u001b[1;32m    362\u001b[0m psi \u001b[38;5;241m=\u001b[39m circ\u001b[38;5;241m.\u001b[39mstatevector(psi0)\n",
      "File \u001b[0;32m~/Desktop/Internship/NoisyGates/quantum-gates/src/quantum_gates/_simulation/simulator.py:326\u001b[0m, in \u001b[0;36m_apply_gates_on_circuit\u001b[0;34m(data, circ, device_param)\u001b[0m\n\u001b[1;32m    324\u001b[0m \u001b[38;5;28;01mfor\u001b[39;00m k \u001b[38;5;129;01min\u001b[39;00m \u001b[38;5;28mrange\u001b[39m(nqubit):\n\u001b[1;32m    325\u001b[0m     \u001b[38;5;28;01mif\u001b[39;00m k \u001b[38;5;241m==\u001b[39m q_ctr:\n\u001b[0;32m--> 326\u001b[0m         \u001b[43mcirc\u001b[49m\u001b[38;5;241;43m.\u001b[39;49m\u001b[43mECR_inv\u001b[49m(k, q_trg, t_ecr[k][q_trg], p_ecr[k][q_trg], p[k], p[q_trg], T1[k], T2[k], T1[q_trg], T2[q_trg])\n\u001b[1;32m    327\u001b[0m     \u001b[38;5;28;01melif\u001b[39;00m k \u001b[38;5;241m==\u001b[39m q_trg:\n\u001b[1;32m    328\u001b[0m         \u001b[38;5;28;01mpass\u001b[39;00m\n",
      "\u001b[0;31mAttributeError\u001b[0m: 'EfficientCircuit' object has no attribute 'ECR_inv'"
     ]
    }
   ],
   "source": [
    "psi0 = [1] + [0] * (2**N_QUBIT-1)\n",
    "\n",
    "probs = sim.run(\n",
    "    t_qiskit_circ=t_circ, \n",
    "    qubits_layout=qubits_layout, \n",
    "    psi0=np.array(psi0), \n",
    "    shots=run_config[\"shots\"], \n",
    "    device_param=device_param_lookup,\n",
    "    nqubit=N_QUBIT)\n",
    "\n",
    "counts_ng = {format(i, 'b').zfill(2): probs[i] for i in range(0, 2**N_QUBIT)}\n",
    "\n",
    "plot_histogram(counts_ng, bar_labels=False, legend=['Noisy Gates simulation'])"
   ]
  },
  {
   "cell_type": "code",
   "execution_count": 9,
   "metadata": {},
   "outputs": [],
   "source": [
    "n_rz, swap_detector, data = sim._preprocess_circuit(t_circ, qubits_layout, N_QUBIT)"
   ]
  },
  {
   "cell_type": "code",
   "execution_count": 12,
   "metadata": {},
   "outputs": [
    {
     "data": {
      "text/plain": [
       "1"
      ]
     },
     "execution_count": 12,
     "metadata": {},
     "output_type": "execute_result"
    }
   ],
   "source": [
    "data[5][1][0]._index"
   ]
  },
  {
   "cell_type": "code",
   "execution_count": 22,
   "metadata": {},
   "outputs": [
    {
     "name": "stdout",
     "output_type": "stream",
     "text": [
      "2 1\n"
     ]
    }
   ],
   "source": [
    "t_ecr = device_param_lookup['t_ecr']\n",
    "\n",
    "q_ctr = data[16][1][0]._index # index control qubit\n",
    "q_trg = data[16][1][1]._index # index target qubit\n",
    "\n",
    "print(q_ctr, q_trg)\n",
    "\n"
   ]
  },
  {
   "cell_type": "code",
   "execution_count": 23,
   "metadata": {},
   "outputs": [
    {
     "data": {
      "text/plain": [
       "6.6e-07"
      ]
     },
     "execution_count": 23,
     "metadata": {},
     "output_type": "execute_result"
    }
   ],
   "source": [
    "t_ecr[q_ctr,q_trg]"
   ]
  },
  {
   "cell_type": "code",
   "execution_count": 9,
   "metadata": {},
   "outputs": [],
   "source": [
    "prob = sim._perform_simulation(1000, data, n_rz, N_QUBIT, device_param_lookup, [1, 0, 0, 0])\n"
   ]
  },
  {
   "cell_type": "code",
   "execution_count": 10,
   "metadata": {},
   "outputs": [
    {
     "data": {
      "text/plain": [
       "array([0.01514261, 0.01569444, 0.48414744, 0.48334333])"
      ]
     },
     "execution_count": 10,
     "metadata": {},
     "output_type": "execute_result"
    }
   ],
   "source": [
    "prob"
   ]
  },
  {
   "cell_type": "code",
   "execution_count": 19,
   "metadata": {},
   "outputs": [],
   "source": [
    "reordered_probs = sim._fix_probabilities(prob, swap_detector, N_QUBIT)"
   ]
  },
  {
   "cell_type": "code",
   "execution_count": 20,
   "metadata": {},
   "outputs": [
    {
     "data": {
      "text/plain": [
       "[0.026954947331260068,\n",
       " 0.4709612069681226,\n",
       " 0.4770180932504227,\n",
       " 0.026110633011811123]"
      ]
     },
     "execution_count": 20,
     "metadata": {},
     "output_type": "execute_result"
    }
   ],
   "source": [
    "reordered_probs"
   ]
  },
  {
   "cell_type": "code",
   "execution_count": 22,
   "metadata": {},
   "outputs": [
    {
     "ename": "AttributeError",
     "evalue": "'QuantumCircuit' object has no attribute 'nqubit'",
     "output_type": "error",
     "traceback": [
      "\u001b[0;31m---------------------------------------------------------------------------\u001b[0m",
      "\u001b[0;31mAttributeError\u001b[0m                            Traceback (most recent call last)",
      "Cell \u001b[0;32mIn[22], line 1\u001b[0m\n\u001b[0;32m----> 1\u001b[0m \u001b[43m_apply_gates_on_circuit\u001b[49m\u001b[43m(\u001b[49m\u001b[43mdata\u001b[49m\u001b[43m,\u001b[49m\u001b[43m \u001b[49m\u001b[43mcirc\u001b[49m\u001b[43m \u001b[49m\u001b[38;5;241;43m=\u001b[39;49m\u001b[43m \u001b[49m\u001b[43mt_circ\u001b[49m\u001b[43m,\u001b[49m\u001b[43m \u001b[49m\u001b[43mdevice_param\u001b[49m\u001b[38;5;241;43m=\u001b[39;49m\u001b[43mdevice_param_lookup\u001b[49m\u001b[43m)\u001b[49m\n",
      "File \u001b[0;32m~/Desktop/Internship/NoisyGates/quantum-gates/src/quantum_gates/_simulation/simulator.py:295\u001b[0m, in \u001b[0;36m_apply_gates_on_circuit\u001b[0;34m(data, circ, device_param)\u001b[0m\n\u001b[1;32m    284\u001b[0m \u001b[38;5;66;03m# Unpack dict\u001b[39;00m\n\u001b[1;32m    285\u001b[0m T1, T2, p, rout, p_ecr, t_ecr, tm, dt \u001b[38;5;241m=\u001b[39m (\n\u001b[1;32m    286\u001b[0m     device_param[\u001b[38;5;124m\"\u001b[39m\u001b[38;5;124mT1\u001b[39m\u001b[38;5;124m\"\u001b[39m],\n\u001b[1;32m    287\u001b[0m     device_param[\u001b[38;5;124m\"\u001b[39m\u001b[38;5;124mT2\u001b[39m\u001b[38;5;124m\"\u001b[39m],\n\u001b[0;32m   (...)\u001b[0m\n\u001b[1;32m    293\u001b[0m     device_param[\u001b[38;5;124m\"\u001b[39m\u001b[38;5;124mdt\u001b[39m\u001b[38;5;124m\"\u001b[39m][\u001b[38;5;241m0\u001b[39m]\n\u001b[1;32m    294\u001b[0m )\n\u001b[0;32m--> 295\u001b[0m nqubit \u001b[38;5;241m=\u001b[39m \u001b[43mcirc\u001b[49m\u001b[38;5;241;43m.\u001b[39;49m\u001b[43mnqubit\u001b[49m\n\u001b[1;32m    297\u001b[0m \u001b[38;5;66;03m# Apply gates\u001b[39;00m\n\u001b[1;32m    298\u001b[0m \u001b[38;5;28;01mfor\u001b[39;00m j \u001b[38;5;129;01min\u001b[39;00m \u001b[38;5;28mrange\u001b[39m(\u001b[38;5;28mlen\u001b[39m(data)):\n",
      "\u001b[0;31mAttributeError\u001b[0m: 'QuantumCircuit' object has no attribute 'nqubit'"
     ]
    }
   ],
   "source": [
    "_apply_gates_on_circuit(data, circ = t_circ, device_param=device_param_lookup)"
   ]
  },
  {
   "cell_type": "code",
   "execution_count": null,
   "metadata": {},
   "outputs": [],
   "source": []
  }
 ],
 "metadata": {
  "kernelspec": {
   "display_name": "Quantum1",
   "language": "python",
   "name": "python3"
  },
  "language_info": {
   "codemirror_mode": {
    "name": "ipython",
    "version": 3
   },
   "file_extension": ".py",
   "mimetype": "text/x-python",
   "name": "python",
   "nbconvert_exporter": "python",
   "pygments_lexer": "ipython3",
   "version": "3.9.19"
  }
 },
 "nbformat": 4,
 "nbformat_minor": 2
}
