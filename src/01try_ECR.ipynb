{
 "cells": [
  {
   "cell_type": "code",
   "execution_count": 196,
   "metadata": {},
   "outputs": [],
   "source": [
    "# Standard libraries\n",
    "import numpy as np\n",
    "import json\n",
    "from datetime import datetime\n",
    "\n",
    "# Qiskit\n",
    "from qiskit import QuantumCircuit, transpile\n",
    "from qiskit.visualization import plot_histogram\n",
    "from qiskit_ibm_provider import IBMProvider\n",
    "\n",
    "# Own library\n",
    "from quantum_gates.simulators import MrAndersonSimulator\n",
    "from quantum_gates.gates import standard_gates\n",
    "from quantum_gates.circuits import EfficientCircuit\n",
    "#from quantum_gates.utilities import DeviceParameters\n",
    "from quantum_gates.utilities import setup_backend\n",
    "IBM_TOKEN = \"56ce0886112e6a0e86ea8eb83e379902e1616cb99deb2ca3505aff78cabeece4757dd9a3e7589dbe9506a643f1876dbf78c2a3444c7a8be123ba413870a11060\""
   ]
  },
  {
   "cell_type": "code",
   "execution_count": 126,
   "metadata": {},
   "outputs": [],
   "source": [
    "class DeviceParameters(object):\n",
    "    \"\"\"Snapshot of the noise of the IBM backend. Can load and save the properties.\n",
    "\n",
    "    Args:\n",
    "        qubits_layout (list[int]): Layout of the qubits.\n",
    "\n",
    "    Attributes:\n",
    "        qubits_layout (list[int]): Layout of the qubits.\n",
    "        nr_of_qubits (int): Number of qubits to be used.\n",
    "        T1 (np.array): T1 time.\n",
    "        T2 (np.array): T2 time.\n",
    "        p (np.array): To be added.\n",
    "        rout (np.array): To be added.\n",
    "        p_ecr (np.array): Error probabilites in the ECR gate.\n",
    "        p_ecr (np.array): Gate time to implement controlled not operations in the ECR gate.\n",
    "        tm (np.array): To be added.\n",
    "        dt (np.array): To be added.\n",
    "        \n",
    "    \"\"\"\n",
    "\n",
    "    # Filename when storing the data in text files or a single json file\n",
    "    f_T1 = \"T1.txt\"\n",
    "    f_T2 = \"T2.txt\"\n",
    "    f_p = \"p.txt\"\n",
    "    f_rout = \"rout.txt\"\n",
    "    f_p_ecr = \"p_ecr.txt\"\n",
    "    f_t_ecr = \"t_ecr.txt\"\n",
    "    f_tm = \"tm.txt\"\n",
    "    f_dt = \"dt.txt\"\n",
    "    f_json = \"device_parameters.json\"\n",
    "    f_metadata = \"metadata.json\"\n",
    "\n",
    "    def __init__(self, qubits_layout: list):\n",
    "        self.qubits_layout = qubits_layout\n",
    "        self.nr_of_qubits = len(qubits_layout)\n",
    "        self.T1 = None\n",
    "        self.T2 = None\n",
    "        self.p = None\n",
    "        self.rout = None\n",
    "        self.p_ecr = None\n",
    "        self.t_ecr = None\n",
    "        self.tm = None\n",
    "        self.dt = None\n",
    "        self.metadata = None\n",
    "        self._names = [\"T1\", \"T2\", \"p\", \"rout\", \"p_ecr\", \"t_ecr\", \"tm\", \"dt\", \"metadata\"]\n",
    "        self._f_txt = [\"T1.txt\", \"T2.txt\", \"p.txt\", \"rout.txt\", \"p_ecr.txt\", \"t_ecr.txt\", \"tm.txt\", \"dt.txt\",\n",
    "                       \"metadata.json\"]\n",
    "        \n",
    "    def is_complete(self) -> bool:\n",
    "        \"\"\" Returns whether all device parameters have been successfully initialized.\n",
    "        \"\"\"\n",
    "        # Check not None\n",
    "        if any((\n",
    "                self.T1 is None,\n",
    "                self.T2 is None,\n",
    "                self.p is None,\n",
    "                self.rout is None,\n",
    "                self.p_cnot is None,\n",
    "                self.t_cnot is None,\n",
    "                self.tm is None,\n",
    "                self.dt is None,\n",
    "                self.metadata is None)):\n",
    "            return False\n",
    "\n",
    "        return True\n",
    "\n",
    "    def load_from_backend(self, backend):\n",
    "        \"\"\" Load device parameters from the IBM backend. \"\"\"\n",
    "\n",
    "        # Load\n",
    "        prop = backend.properties()\n",
    "        config = backend.configuration()\n",
    "        defaults = backend.defaults()\n",
    "\n",
    "        self.T1 = [prop.t1(j) for j in self.qubits_layout]\n",
    "        self.T2 = [prop.t2(j) for j in self.qubits_layout]\n",
    "        self.p = [prop.gate_error('x', [j]) for j in self.qubits_layout]\n",
    "        self.rout = [prop.readout_error(j) for j in self.qubits_layout]\n",
    "        self.dt = [backend.configuration().dt]\n",
    "        self.tm = [prop.readout_length(j) for j in self.qubits_layout]\n",
    "        self.metadata = {\n",
    "            \"version\": datetime.today().strftime('%Y%m%d'),\n",
    "            \"device\": config.backend_name,\n",
    "            \"qubits\": config.n_qubits,\n",
    "            \"qubits_layout\": self.qubits_layout,\n",
    "            \"config\": config.to_dict()\n",
    "        }\n",
    "\n",
    "        t_ecr = np.zeros((self.nr_of_qubits, self.nr_of_qubits))\n",
    "        p_ecr = np.zeros((self.nr_of_qubits, self.nr_of_qubits))\n",
    "\n",
    "        if self.nr_of_qubits > 1:\n",
    "            for i in range(self.nr_of_qubits):\n",
    "                if i == 0:\n",
    "                    t_ecr[0][1] = prop.gate_length('ecr', [self.qubits_layout[1], self.qubits_layout[0]])\n",
    "                    p_ecr[0][1] = prop.gate_error('ecr', [self.qubits_layout[1], self.qubits_layout[0]])\n",
    "                if i != 0 and i != self.nr_of_qubits-1:\n",
    "                    t_ecr[i-1][i] = prop.gate_length('ecr', [self.qubits_layout[i], self.qubits_layout[i-1]])\n",
    "                    p_ecr[i-1][i] = prop.gate_error('ecr', [self.qubits_layout[i], self.qubits_layout[i-1]])\n",
    "                    t_ecr[i+1][i] = prop.gate_length('ecr', [self.qubits_layout[i+1], self.qubits_layout[i]])\n",
    "                    p_ecr[i+1][i] = prop.gate_error('ecr', [self.qubits_layout[i+1], self.qubits_layout[i]])\n",
    "                if i == self.nr_of_qubits-1:\n",
    "                    t_ecr[i][i-1] = prop.gate_length('ecr', [self.qubits_layout[i], self.qubits_layout[i-1]])\n",
    "                    p_ecr[i][i-1] = prop.gate_error('ecr', [self.qubits_layout[i], self.qubits_layout[i-1]])\n",
    "        self.t_cnot = t_ecr\n",
    "        self.p_cnot = p_ecr\n",
    "\n",
    "        # Verify\n",
    "        if not self.is_complete():\n",
    "            raise Exception(\"Loading of device parameters from the backend was not successful: Did not pass verification.\")\n",
    "\n",
    "        return"
   ]
  },
  {
   "cell_type": "code",
   "execution_count": 105,
   "metadata": {},
   "outputs": [
    {
     "data": {
      "image/png": "[encoded data removed]",
      "text/plain": [
       "<Figure size 538.128x284.278 with 1 Axes>"
      ]
     },
     "execution_count": 105,
     "metadata": {},
     "output_type": "execute_result"
    }
   ],
   "source": [
    "circ = QuantumCircuit(2,2)\n",
    "circ.h(0)\n",
    "circ.cx(0,1)\n",
    "circ.barrier(range(2))\n",
    "circ.measure(range(2),range(2))\n",
    "circ.draw('mpl')"
   ]
  },
  {
   "cell_type": "code",
   "execution_count": 120,
   "metadata": {},
   "outputs": [],
   "source": [
    "config = {\n",
    "    \"backend\": {\n",
    "        \"hub\": \"ibm-q\",\n",
    "        \"group\": \"open\",\n",
    "        \"project\": \"main\",\n",
    "        \"device_name\": \"ibmq_manila\"\n",
    "    },\n",
    "    \"run\": {\n",
    "        \"shots\": 1000,\n",
    "        \"qubits_layout\": [0, 1],\n",
    "        \"psi0\": [1, 0, 0, 0]\n",
    "    }\n",
    "}"
   ]
  },
  {
   "cell_type": "code",
   "execution_count": 93,
   "metadata": {},
   "outputs": [],
   "source": [
    "#backend_config = config[\"backend\"]\n",
    "#backend = setup_backend(Token=IBM_TOKEN, **backend_config)\n",
    "\n",
    "\n",
    "provider = IBMProvider(token=IBM_TOKEN)\n",
    "backend = provider.get_backend('ibm_brisbane')\n",
    "\n",
    "\n",
    "\n",
    "prop = backend.properties()\n",
    "\n"
   ]
  },
  {
   "cell_type": "code",
   "execution_count": 121,
   "metadata": {},
   "outputs": [
    {
     "name": "stdout",
     "output_type": "stream",
     "text": [
      "[0, 1]\n"
     ]
    }
   ],
   "source": [
    "run_config = config[\"run\"]\n",
    "qubits_layout = run_config[\"qubits_layout\"]\n",
    "print(qubits_layout)"
   ]
  },
  {
   "cell_type": "code",
   "execution_count": 122,
   "metadata": {},
   "outputs": [
    {
     "data": {
      "text/plain": [
       "6.6e-07"
      ]
     },
     "execution_count": 122,
     "metadata": {},
     "output_type": "execute_result"
    }
   ],
   "source": [
    "prop.gate_length('ecr', [qubits_layout[1], qubits_layout[0]])"
   ]
  },
  {
   "cell_type": "code",
   "execution_count": 130,
   "metadata": {},
   "outputs": [],
   "source": [
    "\n",
    "device_param = DeviceParameters(qubits_layout)\n",
    "\n",
    "device_param.load_from_backend(backend)\n",
    "device_param_lookup = device_param.__dict__\n",
    "\n",
    "\n"
   ]
  },
  {
   "cell_type": "code",
   "execution_count": 176,
   "metadata": {},
   "outputs": [],
   "source": [
    "sim = MrAndersonSimulator(gates=standard_gates, CircuitClass=EfficientCircuit)\n",
    "\n",
    "t_circ = transpile(\n",
    "    circ,\n",
    "    backend,\n",
    "    scheduling_method='asap',\n",
    "    initial_layout=qubits_layout,\n",
    "    seed_transpiler=42\n",
    ")\n",
    "\n",
    "#t_circ.draw(output='mpl')"
   ]
  },
  {
   "cell_type": "code",
   "execution_count": 151,
   "metadata": {},
   "outputs": [],
   "source": [
    "raw_data = t_circ.data\n"
   ]
  },
  {
   "cell_type": "code",
   "execution_count": 195,
   "metadata": {},
   "outputs": [
    {
     "data": {
      "text/plain": [
       "0"
      ]
     },
     "execution_count": 195,
     "metadata": {},
     "output_type": "execute_result"
    }
   ],
   "source": [
    "\n",
    "raw_data[0][1][0]._index"
   ]
  },
  {
   "cell_type": "code",
   "execution_count": 198,
   "metadata": {},
   "outputs": [
    {
     "name": "stdout",
     "output_type": "stream",
     "text": [
      "Warning: The transpilation of the circuit has to be done by the user. \n",
      "We only support a linear connectivity at the moment.\n"
     ]
    },
    {
     "ename": "AttributeError",
     "evalue": "'Qubit' object has no attribute 'index'",
     "output_type": "error",
     "traceback": [
      "\u001b[0;31m---------------------------------------------------------------------------\u001b[0m",
      "\u001b[0;31mAttributeError\u001b[0m                            Traceback (most recent call last)",
      "Cell \u001b[0;32mIn[198], line 1\u001b[0m\n\u001b[0;32m----> 1\u001b[0m probs \u001b[38;5;241m=\u001b[39m \u001b[43msim\u001b[49m\u001b[38;5;241;43m.\u001b[39;49m\u001b[43mrun\u001b[49m\u001b[43m(\u001b[49m\n\u001b[1;32m      2\u001b[0m \u001b[43m    \u001b[49m\u001b[43mt_qiskit_circ\u001b[49m\u001b[38;5;241;43m=\u001b[39;49m\u001b[43mt_circ\u001b[49m\u001b[43m,\u001b[49m\u001b[43m \u001b[49m\n\u001b[1;32m      3\u001b[0m \u001b[43m    \u001b[49m\u001b[43mqubits_layout\u001b[49m\u001b[38;5;241;43m=\u001b[39;49m\u001b[43mqubits_layout\u001b[49m\u001b[43m,\u001b[49m\u001b[43m \u001b[49m\n\u001b[1;32m      4\u001b[0m \u001b[43m    \u001b[49m\u001b[43mpsi0\u001b[49m\u001b[38;5;241;43m=\u001b[39;49m\u001b[43mnp\u001b[49m\u001b[38;5;241;43m.\u001b[39;49m\u001b[43marray\u001b[49m\u001b[43m(\u001b[49m\u001b[43mrun_config\u001b[49m\u001b[43m[\u001b[49m\u001b[38;5;124;43m\"\u001b[39;49m\u001b[38;5;124;43mpsi0\u001b[39;49m\u001b[38;5;124;43m\"\u001b[39;49m\u001b[43m]\u001b[49m\u001b[43m)\u001b[49m\u001b[43m,\u001b[49m\u001b[43m \u001b[49m\n\u001b[1;32m      5\u001b[0m \u001b[43m    \u001b[49m\u001b[43mshots\u001b[49m\u001b[38;5;241;43m=\u001b[39;49m\u001b[43mrun_config\u001b[49m\u001b[43m[\u001b[49m\u001b[38;5;124;43m\"\u001b[39;49m\u001b[38;5;124;43mshots\u001b[39;49m\u001b[38;5;124;43m\"\u001b[39;49m\u001b[43m]\u001b[49m\u001b[43m,\u001b[49m\u001b[43m \u001b[49m\n\u001b[1;32m      6\u001b[0m \u001b[43m    \u001b[49m\u001b[43mdevice_param\u001b[49m\u001b[38;5;241;43m=\u001b[39;49m\u001b[43mdevice_param_lookup\u001b[49m\u001b[43m,\u001b[49m\n\u001b[1;32m      7\u001b[0m \u001b[43m    \u001b[49m\u001b[43mnqubit\u001b[49m\u001b[38;5;241;43m=\u001b[39;49m\u001b[38;5;241;43m2\u001b[39;49m\u001b[43m)\u001b[49m\n\u001b[1;32m      9\u001b[0m counts_ng \u001b[38;5;241m=\u001b[39m {\u001b[38;5;28mformat\u001b[39m(i, \u001b[38;5;124m'\u001b[39m\u001b[38;5;124mb\u001b[39m\u001b[38;5;124m'\u001b[39m)\u001b[38;5;241m.\u001b[39mzfill(\u001b[38;5;241m2\u001b[39m): probs[i] \u001b[38;5;28;01mfor\u001b[39;00m i \u001b[38;5;129;01min\u001b[39;00m \u001b[38;5;28mrange\u001b[39m(\u001b[38;5;241m0\u001b[39m, \u001b[38;5;241m4\u001b[39m)}\n",
      "File \u001b[0;32m~/Desktop/Internship/NoisyGates/quantum-gates/src/quantum_gates/_simulation/simulator.py:88\u001b[0m, in \u001b[0;36mMrAndersonSimulator.run\u001b[0;34m(self, t_qiskit_circ, qubits_layout, psi0, shots, device_param, nqubit)\u001b[0m\n\u001b[1;32m     85\u001b[0m \u001b[38;5;28mself\u001b[39m\u001b[38;5;241m.\u001b[39m_validate_input_of_run(t_qiskit_circ, qubits_layout, psi0, shots, device_param, nqubit)\n\u001b[1;32m     87\u001b[0m \u001b[38;5;66;03m# Count rz gates, construct swap lookup, generate data (representation of circuit compatible with simulation)\u001b[39;00m\n\u001b[0;32m---> 88\u001b[0m n_rz, swap_detector, data \u001b[38;5;241m=\u001b[39m \u001b[38;5;28;43mself\u001b[39;49m\u001b[38;5;241;43m.\u001b[39;49m\u001b[43m_preprocess_circuit\u001b[49m\u001b[43m(\u001b[49m\u001b[43mt_qiskit_circ\u001b[49m\u001b[43m,\u001b[49m\u001b[43m \u001b[49m\u001b[43mqubits_layout\u001b[49m\u001b[43m,\u001b[49m\u001b[43m \u001b[49m\u001b[43mnqubit\u001b[49m\u001b[43m)\u001b[49m\n\u001b[1;32m     90\u001b[0m \u001b[38;5;66;03m# Read data and apply Noisy Quantum gates for many shots to get preliminary probabilities\u001b[39;00m\n\u001b[1;32m     91\u001b[0m probs \u001b[38;5;241m=\u001b[39m \u001b[38;5;28mself\u001b[39m\u001b[38;5;241m.\u001b[39m_perform_simulation(shots, data, n_rz, nqubit, device_param, psi0)\n",
      "File \u001b[0;32m~/Desktop/Internship/NoisyGates/quantum-gates/src/quantum_gates/_simulation/simulator.py:168\u001b[0m, in \u001b[0;36mMrAndersonSimulator._preprocess_circuit\u001b[0;34m(self, t_qiskit_circ, qubits_layout, nqubit)\u001b[0m\n\u001b[1;32m    165\u001b[0m     data_measure\u001b[38;5;241m.\u001b[39mappend((q, c))\n\u001b[1;32m    167\u001b[0m \u001b[38;5;28;01melse\u001b[39;00m:\n\u001b[0;32m--> 168\u001b[0m     q \u001b[38;5;241m=\u001b[39m \u001b[43mraw_data\u001b[49m\u001b[43m[\u001b[49m\u001b[43mi\u001b[49m\u001b[43m]\u001b[49m\u001b[43m[\u001b[49m\u001b[38;5;241;43m1\u001b[39;49m\u001b[43m]\u001b[49m\u001b[43m[\u001b[49m\u001b[38;5;241;43m0\u001b[39;49m\u001b[43m]\u001b[49m\u001b[38;5;241;43m.\u001b[39;49m\u001b[43mindex\u001b[49m\n\u001b[1;32m    169\u001b[0m     \u001b[38;5;28;01mif\u001b[39;00m q \u001b[38;5;129;01min\u001b[39;00m qubits_layout:\n\u001b[1;32m    170\u001b[0m         \u001b[38;5;28;01mif\u001b[39;00m raw_data[i][\u001b[38;5;241m0\u001b[39m]\u001b[38;5;241m.\u001b[39mname \u001b[38;5;241m==\u001b[39m \u001b[38;5;124m'\u001b[39m\u001b[38;5;124mrz\u001b[39m\u001b[38;5;124m'\u001b[39m:\n",
      "\u001b[0;31mAttributeError\u001b[0m: 'Qubit' object has no attribute 'index'"
     ]
    }
   ],
   "source": [
    "\n",
    "probs = sim.run(\n",
    "    t_qiskit_circ=t_circ, \n",
    "    qubits_layout=qubits_layout, \n",
    "    psi0=np.array(run_config[\"psi0\"]), \n",
    "    shots=run_config[\"shots\"], \n",
    "    device_param=device_param_lookup,\n",
    "    nqubit=2)\n",
    "\n",
    "counts_ng = {format(i, 'b').zfill(2): probs[i] for i in range(0, 4)}"
   ]
  },
  {
   "cell_type": "code",
   "execution_count": null,
   "metadata": {},
   "outputs": [],
   "source": [
    "plot_histogram(counts_ng, bar_labels=False, legend=['Noisy Gates simulation'])"
   ]
  }
 ],
 "metadata": {
  "kernelspec": {
   "display_name": "Quantum1",
   "language": "python",
   "name": "python3"
  },
  "language_info": {
   "codemirror_mode": {
    "name": "ipython",
    "version": 3
   },
   "file_extension": ".py",
   "mimetype": "text/x-python",
   "name": "python",
   "nbconvert_exporter": "python",
   "pygments_lexer": "ipython3",
   "version": "3.9.19"
  }
 },
 "nbformat": 4,
 "nbformat_minor": 2
}
